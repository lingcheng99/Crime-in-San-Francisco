{
 "cells": [
  {
   "cell_type": "code",
   "execution_count": 1,
   "metadata": {
    "collapsed": false
   },
   "outputs": [
    {
     "name": "stderr",
     "output_type": "stream",
     "text": [
      "Warning message:\n",
      ": package ‘ggplot2’ was built under R version 3.2.4Checking rgeos availability: TRUE\n",
      "rgdal: version: 1.1-8, (SVN revision 616)\n",
      " Geospatial Data Abstraction Library extensions to R successfully loaded\n",
      " Loaded GDAL runtime: GDAL 1.11.3, released 2015/09/16\n",
      " Path to GDAL shared files: /usr/local/Cellar/gdal/1.11.3_1/share/gdal\n",
      " Loaded PROJ.4 runtime: Rel. 4.9.2, 08 September 2015, [PJ_VERSION: 492]\n",
      " Path to PROJ.4 shared files: (autodetected)\n",
      " Linking to sp version: 1.2-2 \n",
      "rgeos version: 0.3-19, (SVN revision 524)\n",
      " GEOS runtime version: 3.5.0-CAPI-1.9.0 r4084 \n",
      " Linking to sp version: 1.2-2 \n",
      " Polygon checking: TRUE \n",
      "\n",
      "\n",
      "Attaching package: ‘dplyr’\n",
      "\n",
      "The following objects are masked from ‘package:rgeos’:\n",
      "\n",
      "    intersect, setdiff, union\n",
      "\n",
      "The following objects are masked from ‘package:stats’:\n",
      "\n",
      "    filter, lag\n",
      "\n",
      "The following objects are masked from ‘package:base’:\n",
      "\n",
      "    intersect, setdiff, setequal, union\n",
      "\n"
     ]
    }
   ],
   "source": [
    "library(ggplot2)\n",
    "library(ggmap)\n",
    "library(sp)\n",
    "library(maptools)\n",
    "library(rgdal)\n",
    "library(rgeos)\n",
    "library(RColorBrewer)\n",
    "library(dplyr)\n",
    "library(leaflet)"
   ]
  },
  {
   "cell_type": "code",
   "execution_count": 2,
   "metadata": {
    "collapsed": false
   },
   "outputs": [
    {
     "name": "stdout",
     "output_type": "stream",
     "text": [
      "'data.frame':\t878049 obs. of  9 variables:\n",
      " $ Dates     : Factor w/ 389257 levels \"2003-01-06 00:01:00\",..: 389257 389257 389256 389255 389255 389255 389255 389255 389254 389254 ...\n",
      " $ Category  : Factor w/ 39 levels \"ARSON\",\"ASSAULT\",..: 38 22 22 17 17 17 37 37 17 17 ...\n",
      " $ Descript  : Factor w/ 879 levels \"ABANDONMENT OF CHILD\",..: 867 811 811 405 405 407 740 740 405 405 ...\n",
      " $ DayOfWeek : Factor w/ 7 levels \"Friday\",\"Monday\",..: 7 7 7 7 7 7 7 7 7 7 ...\n",
      " $ PdDistrict: Factor w/ 10 levels \"BAYVIEW\",\"CENTRAL\",..: 5 5 5 5 6 3 3 1 7 2 ...\n",
      " $ Resolution: Factor w/ 17 levels \"ARREST, BOOKED\",..: 1 1 1 12 12 12 12 12 12 12 ...\n",
      " $ Address   : Factor w/ 23228 levels \"0 Block of  HARRISON ST\",..: 19791 19791 22698 4267 1844 1506 13323 18055 11385 17659 ...\n",
      " $ X         : num  -122 -122 -122 -122 -122 ...\n",
      " $ Y         : num  37.8 37.8 37.8 37.8 37.8 ...\n"
     ]
    }
   ],
   "source": [
    "crime = read.csv('train.csv')\n",
    "str(crime)"
   ]
  },
  {
   "cell_type": "code",
   "execution_count": 3,
   "metadata": {
    "collapsed": false
   },
   "outputs": [
    {
     "data": {
      "text/html": [
       "<ol class=list-inline>\n",
       "\t<li>67</li>\n",
       "\t<li>9</li>\n",
       "</ol>\n"
      ],
      "text/latex": [
       "\\begin{enumerate*}\n",
       "\\item 67\n",
       "\\item 9\n",
       "\\end{enumerate*}\n"
      ],
      "text/markdown": [
       "1. 67\n",
       "2. 9\n",
       "\n",
       "\n"
      ],
      "text/plain": [
       "[1] 67  9"
      ]
     },
     "execution_count": 3,
     "metadata": {},
     "output_type": "execute_result"
    }
   ],
   "source": [
    "dim(crime[crime$Y==90.0,])"
   ]
  },
  {
   "cell_type": "code",
   "execution_count": 4,
   "metadata": {
    "collapsed": false
   },
   "outputs": [],
   "source": [
    "crime = crime[crime$Y!=90.0,]"
   ]
  },
  {
   "cell_type": "code",
   "execution_count": 5,
   "metadata": {
    "collapsed": false
   },
   "outputs": [],
   "source": [
    "#convert to spatialpointsDataFrame with X/Y coordinate and WGS84 datum\n",
    "coords = SpatialPoints(crime[,c('X','Y')])\n",
    "crime_spatial = SpatialPointsDataFrame(coords,crime)\n",
    "proj4string(crime_spatial) = CRS('+proj=longlat +ellps=WGS84')"
   ]
  },
  {
   "cell_type": "code",
   "execution_count": 6,
   "metadata": {
    "collapsed": false
   },
   "outputs": [
    {
     "name": "stdout",
     "output_type": "stream",
     "text": [
      "Formal class 'SpatialPointsDataFrame' [package \"sp\"] with 5 slots\n",
      "  ..@ data       :'data.frame':\t877982 obs. of  9 variables:\n",
      "  .. ..$ Dates     : Factor w/ 389257 levels \"2003-01-06 00:01:00\",..: 389257 389257 389256 389255 389255 389255 389255 389255 389254 389254 ...\n",
      "  .. ..$ Category  : Factor w/ 39 levels \"ARSON\",\"ASSAULT\",..: 38 22 22 17 17 17 37 37 17 17 ...\n",
      "  .. ..$ Descript  : Factor w/ 879 levels \"ABANDONMENT OF CHILD\",..: 867 811 811 405 405 407 740 740 405 405 ...\n",
      "  .. ..$ DayOfWeek : Factor w/ 7 levels \"Friday\",\"Monday\",..: 7 7 7 7 7 7 7 7 7 7 ...\n",
      "  .. ..$ PdDistrict: Factor w/ 10 levels \"BAYVIEW\",\"CENTRAL\",..: 5 5 5 5 6 3 3 1 7 2 ...\n",
      "  .. ..$ Resolution: Factor w/ 17 levels \"ARREST, BOOKED\",..: 1 1 1 12 12 12 12 12 12 12 ...\n",
      "  .. ..$ Address   : Factor w/ 23228 levels \"0 Block of  HARRISON ST\",..: 19791 19791 22698 4267 1844 1506 13323 18055 11385 17659 ...\n",
      "  .. ..$ X         : num [1:877982] -122 -122 -122 -122 -122 ...\n",
      "  .. ..$ Y         : num [1:877982] 37.8 37.8 37.8 37.8 37.8 ...\n",
      "  ..@ coords.nrs : num(0) \n",
      "  ..@ coords     : num [1:877982, 1:2] -122 -122 -122 -122 -122 ...\n",
      "  .. ..- attr(*, \"dimnames\")=List of 2\n",
      "  .. .. ..$ : chr [1:877982] \"1\" \"2\" \"3\" \"4\" ...\n",
      "  .. .. ..$ : chr [1:2] \"X\" \"Y\"\n",
      "  ..@ bbox       : num [1:2, 1:2] -122.5 37.7 -122.4 37.8\n",
      "  .. ..- attr(*, \"dimnames\")=List of 2\n",
      "  .. .. ..$ : chr [1:2] \"X\" \"Y\"\n",
      "  .. .. ..$ : chr [1:2] \"min\" \"max\"\n",
      "  ..@ proj4string:Formal class 'CRS' [package \"sp\"] with 1 slot\n",
      "  .. .. ..@ projargs: chr \"+proj=longlat +ellps=WGS84\"\n"
     ]
    }
   ],
   "source": [
    "str(crime_spatial)"
   ]
  },
  {
   "cell_type": "code",
   "execution_count": 7,
   "metadata": {
    "collapsed": false
   },
   "outputs": [
    {
     "data": {
      "text/html": [
       "<table>\n",
       "<thead><tr><th></th><th scope=col>min</th><th scope=col>max</th></tr></thead>\n",
       "<tbody>\n",
       "\t<tr><th scope=row>X</th><td>-122.5136</td><td>-122.3649</td></tr>\n",
       "\t<tr><th scope=row>Y</th><td>37.70788</td><td>37.81998</td></tr>\n",
       "</tbody>\n",
       "</table>\n"
      ],
      "text/latex": [
       "\\begin{tabular}{r|ll}\n",
       "  & min & max\\\\\n",
       "\\hline\n",
       "\tX & -122.5136 & -122.3649\\\\\n",
       "\tY & 37.70788 & 37.81998\\\\\n",
       "\\end{tabular}\n"
      ],
      "text/markdown": [
       "1. -122.51364206429\n",
       "2. 37.7078790224135\n",
       "3. -122.36493749408\n",
       "4. 37.819975492297\n",
       "\n",
       "\n"
      ],
      "text/plain": [
       "         min        max\n",
       "X -122.51364 -122.36494\n",
       "Y   37.70788   37.81998"
      ]
     },
     "execution_count": 7,
     "metadata": {},
     "output_type": "execute_result"
    }
   ],
   "source": [
    "bbox(crime_spatial)"
   ]
  },
  {
   "cell_type": "code",
   "execution_count": 8,
   "metadata": {
    "collapsed": true
   },
   "outputs": [],
   "source": [
    "ca_shp = readShapeSpatial('tl_2015_06_tract/tl_2015_06_tract.shp',proj4string = CRS('+proj=longlat +datum=WGS84'))"
   ]
  },
  {
   "cell_type": "code",
   "execution_count": null,
   "metadata": {
    "collapsed": true
   },
   "outputs": [],
   "source": [
    "plot(ca_shp,xlim=c(-122.5136, -122.3649), ylim=c(37.70788,37.81998),col='grey',axes=TRUE)\n",
    "\n",
    "plot(crime_spatial, pch=21, b='red',cex=.5,add=TRUE)"
   ]
  },
  {
   "cell_type": "code",
   "execution_count": null,
   "metadata": {
    "collapsed": true
   },
   "outputs": [],
   "source": []
  },
  {
   "cell_type": "code",
   "execution_count": 9,
   "metadata": {
    "collapsed": false
   },
   "outputs": [
    {
     "name": "stderr",
     "output_type": "stream",
     "text": [
      "Regions defined for each Polygons\n"
     ]
    }
   ],
   "source": [
    "#use ggmap\n",
    "ca_shp_df = fortify(ca_shp)"
   ]
  },
  {
   "cell_type": "code",
   "execution_count": 10,
   "metadata": {
    "collapsed": false
   },
   "outputs": [],
   "source": [
    "locations = c(left = -122.5222, \n",
    "                bottom = 37.7073, \n",
    "                right = -122.3481,\n",
    "                top = 37.8381)\n",
    "map_data = get_map(location=locations, zoom=12, source='osm',color='bw')"
   ]
  },
  {
   "cell_type": "code",
   "execution_count": 11,
   "metadata": {
    "collapsed": true
   },
   "outputs": [],
   "source": [
    "sf_map = ggmap(map_data,extent='device')\n",
    "sf_map1 = sf_map + geom_point(aes(x=X,y=Y),data=crime,alpha=0.5,color='red',size=0.5)"
   ]
  },
  {
   "cell_type": "code",
   "execution_count": 15,
   "metadata": {
    "collapsed": false
   },
   "outputs": [
    {
     "data": {
      "text/html": [
       "<strong>pdf:</strong> 2"
      ],
      "text/latex": [
       "\\textbf{pdf:} 2"
      ],
      "text/markdown": [
       "**pdf:** 2"
      ],
      "text/plain": [
       "pdf \n",
       "  2 "
      ]
     },
     "execution_count": 15,
     "metadata": {},
     "output_type": "execute_result"
    }
   ],
   "source": [
    "png('sfmap_1.png')\n",
    "sf_map1\n",
    "dev.off()"
   ]
  },
  {
   "cell_type": "code",
   "execution_count": null,
   "metadata": {
    "collapsed": true
   },
   "outputs": [],
   "source": []
  },
  {
   "cell_type": "code",
   "execution_count": null,
   "metadata": {
    "collapsed": true
   },
   "outputs": [],
   "source": []
  },
  {
   "cell_type": "code",
   "execution_count": null,
   "metadata": {
    "collapsed": true
   },
   "outputs": [],
   "source": []
  }
 ],
 "metadata": {
  "kernelspec": {
   "display_name": "R",
   "language": "R",
   "name": "ir"
  },
  "language_info": {
   "codemirror_mode": "r",
   "file_extension": ".r",
   "mimetype": "text/x-r-source",
   "name": "R",
   "pygments_lexer": "r",
   "version": "3.2.3"
  }
 },
 "nbformat": 4,
 "nbformat_minor": 0
}
