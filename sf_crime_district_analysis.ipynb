{
 "cells": [
  {
   "cell_type": "markdown",
   "metadata": {},
   "source": [
    "# SF crime analysis by police district, using plotly"
   ]
  },
  {
   "cell_type": "markdown",
   "metadata": {},
   "source": [
    "Focus on crime analysis by police district, using the interactive plotting tools, plotly. Also did some time analysis."
   ]
  },
  {
   "cell_type": "code",
   "execution_count": 1,
   "metadata": {
    "collapsed": true
   },
   "outputs": [],
   "source": [
    "import numpy as np\n",
    "import pandas as pd\n",
    "import matplotlib.pyplot as plt\n",
    "%matplotlib inline\n",
    "import seaborn as sns"
   ]
  },
  {
   "cell_type": "code",
   "execution_count": 2,
   "metadata": {
    "collapsed": false
   },
   "outputs": [],
   "source": [
    "import plotly\n",
    "import plotly.tools as tls\n",
    "import plotly.plotly as py\n",
    "from plotly.graph_objs import Bar, Scatter, Marker, Layout "
   ]
  },
  {
   "cell_type": "code",
   "execution_count": 9,
   "metadata": {
    "collapsed": true
   },
   "outputs": [],
   "source": [
    "py.sign_in('lingcheng99', '39woytnfor')\n",
    "tls.set_credentials_file(username='lingcheng99', api_key='39woytnfor')"
   ]
  },
  {
   "cell_type": "code",
   "execution_count": 3,
   "metadata": {
    "collapsed": false
   },
   "outputs": [
    {
     "data": {
      "text/plain": [
       "(878049, 9)"
      ]
     },
     "execution_count": 3,
     "metadata": {},
     "output_type": "execute_result"
    }
   ],
   "source": [
    "train = pd.read_csv('train.csv')\n",
    "train.shape"
   ]
  },
  {
   "cell_type": "code",
   "execution_count": 4,
   "metadata": {
    "collapsed": false
   },
   "outputs": [
    {
     "data": {
      "text/plain": [
       "count                  878049\n",
       "unique                 389257\n",
       "top       2011-01-01 00:01:00\n",
       "freq                      185\n",
       "first     2003-01-06 00:01:00\n",
       "last      2015-05-13 23:53:00\n",
       "Name: Dates, dtype: object"
      ]
     },
     "execution_count": 4,
     "metadata": {},
     "output_type": "execute_result"
    }
   ],
   "source": [
    "train['Dates'] = pd.to_datetime(train['Dates'])\n",
    "train['Dates'].describe()"
   ]
  },
  {
   "cell_type": "code",
   "execution_count": 5,
   "metadata": {
    "collapsed": true
   },
   "outputs": [],
   "source": [
    "train['year'] = train['Dates'].dt.year\n",
    "train['month'] = train['Dates'].dt.month\n",
    "train['day'] = train['Dates'].dt.day\n",
    "train['dayofweek'] = train['Dates'].dt.dayofweek\n",
    "train['hour'] = train['Dates'].dt.hour"
   ]
  },
  {
   "cell_type": "code",
   "execution_count": 6,
   "metadata": {
    "collapsed": false
   },
   "outputs": [
    {
     "data": {
      "text/plain": [
       "LARCENY/THEFT                  174900\n",
       "OTHER OFFENSES                 126182\n",
       "NON-CRIMINAL                    92304\n",
       "ASSAULT                         76876\n",
       "DRUG/NARCOTIC                   53971\n",
       "VEHICLE THEFT                   53781\n",
       "VANDALISM                       44725\n",
       "WARRANTS                        42214\n",
       "BURGLARY                        36755\n",
       "SUSPICIOUS OCC                  31414\n",
       "MISSING PERSON                  25989\n",
       "ROBBERY                         23000\n",
       "FRAUD                           16679\n",
       "FORGERY/COUNTERFEITING          10609\n",
       "SECONDARY CODES                  9985\n",
       "WEAPON LAWS                      8555\n",
       "PROSTITUTION                     7484\n",
       "TRESPASS                         7326\n",
       "STOLEN PROPERTY                  4540\n",
       "SEX OFFENSES FORCIBLE            4388\n",
       "DISORDERLY CONDUCT               4320\n",
       "DRUNKENNESS                      4280\n",
       "RECOVERED VEHICLE                3138\n",
       "KIDNAPPING                       2341\n",
       "DRIVING UNDER THE INFLUENCE      2268\n",
       "RUNAWAY                          1946\n",
       "LIQUOR LAWS                      1903\n",
       "ARSON                            1513\n",
       "LOITERING                        1225\n",
       "EMBEZZLEMENT                     1166\n",
       "SUICIDE                           508\n",
       "FAMILY OFFENSES                   491\n",
       "BAD CHECKS                        406\n",
       "BRIBERY                           289\n",
       "EXTORTION                         256\n",
       "SEX OFFENSES NON FORCIBLE         148\n",
       "GAMBLING                          146\n",
       "PORNOGRAPHY/OBSCENE MAT            22\n",
       "TREA                                6\n",
       "Name: Category, dtype: int64"
      ]
     },
     "execution_count": 6,
     "metadata": {},
     "output_type": "execute_result"
    }
   ],
   "source": [
    "crime_counts = pd.Series(train['Category'].value_counts())\n",
    "crime_counts"
   ]
  },
  {
   "cell_type": "code",
   "execution_count": 7,
   "metadata": {
    "collapsed": false
   },
   "outputs": [
    {
     "name": "stdout",
     "output_type": "stream",
     "text": [
      "(733122, 14)\n"
     ]
    },
    {
     "data": {
      "text/plain": [
       "LARCENY/THEFT     174900\n",
       "OTHER OFFENSES    126182\n",
       "NON-CRIMINAL       92304\n",
       "ASSAULT            76876\n",
       "DRUG/NARCOTIC      53971\n",
       "VEHICLE THEFT      53781\n",
       "VANDALISM          44725\n",
       "WARRANTS           42214\n",
       "BURGLARY           36755\n",
       "SUSPICIOUS OCC     31414\n",
       "Name: Category, dtype: int64"
      ]
     },
     "execution_count": 7,
     "metadata": {},
     "output_type": "execute_result"
    }
   ],
   "source": [
    "top10_crime = crime_counts.index[:10]\n",
    "train_subset = train[train['Category'].isin(top10_crime)]\n",
    "print train_subset.shape\n",
    "train_subset['Category'].value_counts()"
   ]
  },
  {
   "cell_type": "markdown",
   "metadata": {},
   "source": [
    "# Interactive barplot of crime counts by category"
   ]
  },
  {
   "cell_type": "markdown",
   "metadata": {},
   "source": [
    "Plotly is a great tool for interactive plotting. It is helpful to have both visual bars and numbers at the same time."
   ]
  },
  {
   "cell_type": "code",
   "execution_count": 10,
   "metadata": {
    "collapsed": false
   },
   "outputs": [
    {
     "name": "stdout",
     "output_type": "stream",
     "text": [
      "High five! You successfuly sent some data to your account on plotly. View your plot in your browser at https://plot.ly/~lingcheng99/0 or inside your plot.ly account where it is named 'sfcrime_1'\n"
     ]
    },
    {
     "data": {
      "text/html": [
       "<iframe id=\"igraph\" scrolling=\"no\" style=\"border:none;\" seamless=\"seamless\" src=\"https://plot.ly/~lingcheng99/0.embed\" height=\"525px\" width=\"100%\"></iframe>"
      ],
      "text/plain": [
       "<plotly.tools.PlotlyDisplay object>"
      ]
     },
     "execution_count": 10,
     "metadata": {},
     "output_type": "execute_result"
    }
   ],
   "source": [
    "data = [Bar(x=crime_counts.index, y=crime_counts.values)]\n",
    "layout = Layout(xaxis=dict(tickangle=-45, tickfont=dict(size=10)),margin={'b': 150},\n",
    "               title='Counts of crime by Category')\n",
    "py.iplot({'data': data, 'layout':layout},filename='sfcrime_1')"
   ]
  },
  {
   "cell_type": "code",
   "execution_count": 11,
   "metadata": {
    "collapsed": false
   },
   "outputs": [
    {
     "data": {
      "text/html": [
       "<iframe id=\"igraph\" scrolling=\"no\" style=\"border:none;\" seamless=\"seamless\" src=\"https://plot.ly/~lingcheng99/0.embed\" height=\"525\" width=\"100%\"></iframe>"
      ],
      "text/plain": [
       "<plotly.tools.PlotlyDisplay object>"
      ]
     },
     "execution_count": 11,
     "metadata": {},
     "output_type": "execute_result"
    }
   ],
   "source": [
    "tls.embed(\"https://plot.ly/~lingcheng99/0\")"
   ]
  },
  {
   "cell_type": "markdown",
   "metadata": {},
   "source": [
    "I like these interactive barplotting, as I can see number and visual at the same time; value_counts() list numbers but not visuals, while regular barplot is hard to read"
   ]
  },
  {
   "cell_type": "markdown",
   "metadata": {},
   "source": [
    "# Barplot of crime in each district"
   ]
  },
  {
   "cell_type": "code",
   "execution_count": 28,
   "metadata": {
    "collapsed": false
   },
   "outputs": [
    {
     "data": {
      "text/html": [
       "<div id=\"6eff8c21-27dc-4e18-815d-44dd1425aee8\" style=\"height: 525; width: 100%;\" class=\"plotly-graph-div\"></div><script type=\"text/javascript\">window.PLOTLYENV=window.PLOTLYENV || {};window.PLOTLYENV.BASE_URL=\"https://plot.ly\";Plotly.newPlot(\"6eff8c21-27dc-4e18-815d-44dd1425aee8\", [{\"y\": [157182, 119908, 105296, 89431, 85460, 81809, 78845, 65596, 49313, 45209], \"x\": [\"SOUTHERN\", \"MISSION\", \"NORTHERN\", \"BAYVIEW\", \"CENTRAL\", \"TENDERLOIN\", \"INGLESIDE\", \"TARAVAL\", \"PARK\", \"RICHMOND\"], \"type\": \"bar\"}], {\"margin\": {\"b\": 150}, \"title\": \"Counts of Crime by Police District\"}, {\"linkText\": \"Export to plot.ly\", \"showLink\": true})</script>"
      ],
      "text/plain": [
       "<IPython.core.display.HTML object>"
      ]
     },
     "metadata": {},
     "output_type": "display_data"
    }
   ],
   "source": [
    "district_counts = pd.Series(train['PdDistrict'].value_counts())\n",
    "data = [Bar(x=district_counts.index, y=district_counts.values)]\n",
    "layout = Layout(margin={'b': 150},\n",
    "               title='Counts of Crime by Police District')\n",
    "iplot({'data': data, 'layout':layout})"
   ]
  },
  {
   "cell_type": "code",
   "execution_count": null,
   "metadata": {
    "collapsed": true
   },
   "outputs": [],
   "source": []
  },
  {
   "cell_type": "markdown",
   "metadata": {},
   "source": [
    "# Stacked barplot of crime category and police district"
   ]
  },
  {
   "cell_type": "code",
   "execution_count": 68,
   "metadata": {
    "collapsed": false
   },
   "outputs": [
    {
     "data": {
      "text/html": [
       "<div id=\"45e72ef7-975c-4b66-8dd9-d5bf461269e4\" style=\"height: 525; width: 100%;\" class=\"plotly-graph-div\"></div><script type=\"text/javascript\">window.PLOTLYENV=window.PLOTLYENV || {};window.PLOTLYENV.BASE_URL=\"https://plot.ly\";Plotly.newPlot(\"45e72ef7-975c-4b66-8dd9-d5bf461269e4\", [{\"y\": [149, 8318, 54, 18, 5854, 452, 260, 4511, 368, 131, 24, 12, 1292, 2055, 10, 231, 28630, 124, 193, 1956, 10240, 12233, 5, 1831, 273, 2640, 88, 999, 435, 9, 700, 67, 3270, 1, 780, 5404, 6291, 4599, 789], \"x\": [\"ARSON\", \"ASSAULT\", \"BAD CHECKS\", \"BRIBERY\", \"BURGLARY\", \"DISORDERLY CONDUCT\", \"DRIVING UNDER THE INFLUENCE\", \"DRUG/NARCOTIC\", \"DRUNKENNESS\", \"EMBEZZLEMENT\", \"EXTORTION\", \"FAMILY OFFENSES\", \"FORGERY/COUNTERFEITING\", \"FRAUD\", \"GAMBLING\", \"KIDNAPPING\", \"LARCENY/THEFT\", \"LIQUOR LAWS\", \"LOITERING\", \"MISSING PERSON\", \"NON-CRIMINAL\", \"OTHER OFFENSES\", \"PORNOGRAPHY/OBSCENE MAT\", \"PROSTITUTION\", \"RECOVERED VEHICLE\", \"ROBBERY\", \"RUNAWAY\", \"SECONDARY CODES\", \"SEX OFFENSES FORCIBLE\", \"SEX OFFENSES NON FORCIBLE\", \"STOLEN PROPERTY\", \"SUICIDE\", \"SUSPICIOUS OCC\", \"TREA\", \"TRESPASS\", \"VANDALISM\", \"VEHICLE THEFT\", \"WARRANTS\", \"WEAPON LAWS\"], \"type\": \"bar\", \"name\": \"NORTHERN\"}, {\"y\": [65, 3515, 15, 7, 2888, 271, 176, 2573, 374, 50, 8, 26, 518, 974, 1, 94, 9146, 149, 23, 2713, 5925, 6184, 5, 117, 957, 485, 444, 212, 6, 175, 20, 1656, 290, 2613, 3963, 2318, 357], \"x\": [\"ARSON\", \"ASSAULT\", \"BAD CHECKS\", \"BRIBERY\", \"BURGLARY\", \"DISORDERLY CONDUCT\", \"DRIVING UNDER THE INFLUENCE\", \"DRUG/NARCOTIC\", \"DRUNKENNESS\", \"EMBEZZLEMENT\", \"EXTORTION\", \"FAMILY OFFENSES\", \"FORGERY/COUNTERFEITING\", \"FRAUD\", \"GAMBLING\", \"KIDNAPPING\", \"LARCENY/THEFT\", \"LIQUOR LAWS\", \"LOITERING\", \"MISSING PERSON\", \"NON-CRIMINAL\", \"OTHER OFFENSES\", \"PROSTITUTION\", \"RECOVERED VEHICLE\", \"ROBBERY\", \"RUNAWAY\", \"SECONDARY CODES\", \"SEX OFFENSES FORCIBLE\", \"SEX OFFENSES NON FORCIBLE\", \"STOLEN PROPERTY\", \"SUICIDE\", \"SUSPICIOUS OCC\", \"TRESPASS\", \"VANDALISM\", \"VEHICLE THEFT\", \"WARRANTS\", \"WEAPON LAWS\"], \"type\": \"bar\", \"name\": \"PARK\"}, {\"y\": [182, 8533, 32, 53, 3331, 171, 206, 2373, 190, 78, 29, 71, 977, 1213, 16, 348, 10236, 106, 26, 3181, 6853, 13203, 26, 662, 2788, 148, 1300, 504, 22, 347, 65, 3167, 416, 5374, 8960, 2528, 1130], \"x\": [\"ARSON\", \"ASSAULT\", \"BAD CHECKS\", \"BRIBERY\", \"BURGLARY\", \"DISORDERLY CONDUCT\", \"DRIVING UNDER THE INFLUENCE\", \"DRUG/NARCOTIC\", \"DRUNKENNESS\", \"EMBEZZLEMENT\", \"EXTORTION\", \"FAMILY OFFENSES\", \"FORGERY/COUNTERFEITING\", \"FRAUD\", \"GAMBLING\", \"KIDNAPPING\", \"LARCENY/THEFT\", \"LIQUOR LAWS\", \"LOITERING\", \"MISSING PERSON\", \"NON-CRIMINAL\", \"OTHER OFFENSES\", \"PROSTITUTION\", \"RECOVERED VEHICLE\", \"ROBBERY\", \"RUNAWAY\", \"SECONDARY CODES\", \"SEX OFFENSES FORCIBLE\", \"SEX OFFENSES NON FORCIBLE\", \"STOLEN PROPERTY\", \"SUICIDE\", \"SUSPICIOUS OCC\", \"TRESPASS\", \"VANDALISM\", \"VEHICLE THEFT\", \"WARRANTS\", \"WEAPON LAWS\"], \"type\": \"bar\", \"name\": \"INGLESIDE\"}, {\"y\": [393, 9857, 34, 56, 3930, 219, 179, 4498, 243, 100, 13, 73, 774, 866, 29, 313, 10119, 114, 50, 5038, 6099, 17053, 2, 70, 735, 2715, 265, 1662, 387, 22, 397, 37, 3906, 3, 636, 5356, 7219, 4322, 1647], \"x\": [\"ARSON\", \"ASSAULT\", \"BAD CHECKS\", \"BRIBERY\", \"BURGLARY\", \"DISORDERLY CONDUCT\", \"DRIVING UNDER THE INFLUENCE\", \"DRUG/NARCOTIC\", \"DRUNKENNESS\", \"EMBEZZLEMENT\", \"EXTORTION\", \"FAMILY OFFENSES\", \"FORGERY/COUNTERFEITING\", \"FRAUD\", \"GAMBLING\", \"KIDNAPPING\", \"LARCENY/THEFT\", \"LIQUOR LAWS\", \"LOITERING\", \"MISSING PERSON\", \"NON-CRIMINAL\", \"OTHER OFFENSES\", \"PORNOGRAPHY/OBSCENE MAT\", \"PROSTITUTION\", \"RECOVERED VEHICLE\", \"ROBBERY\", \"RUNAWAY\", \"SECONDARY CODES\", \"SEX OFFENSES FORCIBLE\", \"SEX OFFENSES NON FORCIBLE\", \"STOLEN PROPERTY\", \"SUICIDE\", \"SUSPICIOUS OCC\", \"TREA\", \"TRESPASS\", \"VANDALISM\", \"VEHICLE THEFT\", \"WARRANTS\", \"WEAPON LAWS\"], \"type\": \"bar\", \"name\": \"BAYVIEW\"}, {\"y\": [103, 3202, 31, 8, 2696, 108, 319, 999, 149, 43, 23, 23, 619, 1137, 4, 104, 9893, 81, 8, 1183, 5744, 5632, 1, 24, 125, 787, 94, 525, 216, 10, 206, 42, 2191, 245, 3180, 4117, 1010, 327], \"x\": [\"ARSON\", \"ASSAULT\", \"BAD CHECKS\", \"BRIBERY\", \"BURGLARY\", \"DISORDERLY CONDUCT\", \"DRIVING UNDER THE INFLUENCE\", \"DRUG/NARCOTIC\", \"DRUNKENNESS\", \"EMBEZZLEMENT\", \"EXTORTION\", \"FAMILY OFFENSES\", \"FORGERY/COUNTERFEITING\", \"FRAUD\", \"GAMBLING\", \"KIDNAPPING\", \"LARCENY/THEFT\", \"LIQUOR LAWS\", \"LOITERING\", \"MISSING PERSON\", \"NON-CRIMINAL\", \"OTHER OFFENSES\", \"PORNOGRAPHY/OBSCENE MAT\", \"PROSTITUTION\", \"RECOVERED VEHICLE\", \"ROBBERY\", \"RUNAWAY\", \"SECONDARY CODES\", \"SEX OFFENSES FORCIBLE\", \"SEX OFFENSES NON FORCIBLE\", \"STOLEN PROPERTY\", \"SUICIDE\", \"SUSPICIOUS OCC\", \"TRESPASS\", \"VANDALISM\", \"VEHICLE THEFT\", \"WARRANTS\", \"WEAPON LAWS\"], \"type\": \"bar\", \"name\": \"RICHMOND\"}, {\"y\": [111, 6977, 65, 12, 4519, 494, 160, 1805, 517, 180, 51, 28, 1144, 2344, 31, 197, 25060, 141, 70, 1348, 10940, 8901, 2, 778, 178, 1999, 43, 704, 394, 7, 510, 60, 2842, 1, 904, 4469, 4210, 2777, 487], \"x\": [\"ARSON\", \"ASSAULT\", \"BAD CHECKS\", \"BRIBERY\", \"BURGLARY\", \"DISORDERLY CONDUCT\", \"DRIVING UNDER THE INFLUENCE\", \"DRUG/NARCOTIC\", \"DRUNKENNESS\", \"EMBEZZLEMENT\", \"EXTORTION\", \"FAMILY OFFENSES\", \"FORGERY/COUNTERFEITING\", \"FRAUD\", \"GAMBLING\", \"KIDNAPPING\", \"LARCENY/THEFT\", \"LIQUOR LAWS\", \"LOITERING\", \"MISSING PERSON\", \"NON-CRIMINAL\", \"OTHER OFFENSES\", \"PORNOGRAPHY/OBSCENE MAT\", \"PROSTITUTION\", \"RECOVERED VEHICLE\", \"ROBBERY\", \"RUNAWAY\", \"SECONDARY CODES\", \"SEX OFFENSES FORCIBLE\", \"SEX OFFENSES NON FORCIBLE\", \"STOLEN PROPERTY\", \"SUICIDE\", \"SUSPICIOUS OCC\", \"TREA\", \"TRESPASS\", \"VANDALISM\", \"VEHICLE THEFT\", \"WARRANTS\", \"WEAPON LAWS\"], \"type\": \"bar\", \"name\": \"CENTRAL\"}, {\"y\": [120, 5463, 36, 17, 3463, 162, 202, 1531, 259, 94, 36, 35, 1097, 1549, 8, 191, 11845, 122, 34, 3390, 6919, 8614, 4, 82, 262, 1405, 408, 983, 383, 15, 231, 59, 2996, 386, 4869, 6142, 1617, 567], \"x\": [\"ARSON\", \"ASSAULT\", \"BAD CHECKS\", \"BRIBERY\", \"BURGLARY\", \"DISORDERLY CONDUCT\", \"DRIVING UNDER THE INFLUENCE\", \"DRUG/NARCOTIC\", \"DRUNKENNESS\", \"EMBEZZLEMENT\", \"EXTORTION\", \"FAMILY OFFENSES\", \"FORGERY/COUNTERFEITING\", \"FRAUD\", \"GAMBLING\", \"KIDNAPPING\", \"LARCENY/THEFT\", \"LIQUOR LAWS\", \"LOITERING\", \"MISSING PERSON\", \"NON-CRIMINAL\", \"OTHER OFFENSES\", \"PORNOGRAPHY/OBSCENE MAT\", \"PROSTITUTION\", \"RECOVERED VEHICLE\", \"ROBBERY\", \"RUNAWAY\", \"SECONDARY CODES\", \"SEX OFFENSES FORCIBLE\", \"SEX OFFENSES NON FORCIBLE\", \"STOLEN PROPERTY\", \"SUICIDE\", \"SUSPICIOUS OCC\", \"TRESPASS\", \"VANDALISM\", \"VEHICLE THEFT\", \"WARRANTS\", \"WEAPON LAWS\"], \"type\": \"bar\", \"name\": \"TARAVAL\"}, {\"y\": [60, 7679, 19, 15, 1488, 833, 103, 17696, 439, 91, 8, 39, 562, 1130, 12, 211, 9903, 186, 201, 833, 7467, 13724, 1, 904, 135, 2202, 9, 724, 320, 5, 336, 27, 2513, 1192, 1616, 1006, 7326, 794], \"x\": [\"ARSON\", \"ASSAULT\", \"BAD CHECKS\", \"BRIBERY\", \"BURGLARY\", \"DISORDERLY CONDUCT\", \"DRIVING UNDER THE INFLUENCE\", \"DRUG/NARCOTIC\", \"DRUNKENNESS\", \"EMBEZZLEMENT\", \"EXTORTION\", \"FAMILY OFFENSES\", \"FORGERY/COUNTERFEITING\", \"FRAUD\", \"GAMBLING\", \"KIDNAPPING\", \"LARCENY/THEFT\", \"LIQUOR LAWS\", \"LOITERING\", \"MISSING PERSON\", \"NON-CRIMINAL\", \"OTHER OFFENSES\", \"PORNOGRAPHY/OBSCENE MAT\", \"PROSTITUTION\", \"RECOVERED VEHICLE\", \"ROBBERY\", \"RUNAWAY\", \"SECONDARY CODES\", \"SEX OFFENSES FORCIBLE\", \"SEX OFFENSES NON FORCIBLE\", \"STOLEN PROPERTY\", \"SUICIDE\", \"SUSPICIOUS OCC\", \"TRESPASS\", \"VANDALISM\", \"VEHICLE THEFT\", \"WARRANTS\", \"WEAPON LAWS\"], \"type\": \"bar\", \"name\": \"TENDERLOIN\"}, {\"y\": [145, 11149, 46, 66, 3745, 1099, 357, 8757, 782, 124, 26, 142, 1281, 1970, 18, 312, 18223, 495, 191, 3283, 12372, 19330, 3, 3629, 325, 3629, 298, 1439, 718, 35, 631, 72, 3808, 1, 1021, 5294, 7148, 6615, 1329], \"x\": [\"ARSON\", \"ASSAULT\", \"BAD CHECKS\", \"BRIBERY\", \"BURGLARY\", \"DISORDERLY CONDUCT\", \"DRIVING UNDER THE INFLUENCE\", \"DRUG/NARCOTIC\", \"DRUNKENNESS\", \"EMBEZZLEMENT\", \"EXTORTION\", \"FAMILY OFFENSES\", \"FORGERY/COUNTERFEITING\", \"FRAUD\", \"GAMBLING\", \"KIDNAPPING\", \"LARCENY/THEFT\", \"LIQUOR LAWS\", \"LOITERING\", \"MISSING PERSON\", \"NON-CRIMINAL\", \"OTHER OFFENSES\", \"PORNOGRAPHY/OBSCENE MAT\", \"PROSTITUTION\", \"RECOVERED VEHICLE\", \"ROBBERY\", \"RUNAWAY\", \"SECONDARY CODES\", \"SEX OFFENSES FORCIBLE\", \"SEX OFFENSES NON FORCIBLE\", \"STOLEN PROPERTY\", \"SUICIDE\", \"SUSPICIOUS OCC\", \"TREA\", \"TRESPASS\", \"VANDALISM\", \"VEHICLE THEFT\", \"WARRANTS\", \"WEAPON LAWS\"], \"type\": \"bar\", \"name\": \"MISSION\"}, {\"y\": [185, 12183, 74, 37, 4841, 511, 306, 9228, 959, 275, 38, 42, 2345, 3441, 17, 340, 41845, 385, 429, 3064, 19745, 21308, 4, 135, 326, 3878, 108, 1205, 819, 17, 1007, 59, 5065, 1456, 6550, 4725, 9102, 1128], \"x\": [\"ARSON\", \"ASSAULT\", \"BAD CHECKS\", \"BRIBERY\", \"BURGLARY\", \"DISORDERLY CONDUCT\", \"DRIVING UNDER THE INFLUENCE\", \"DRUG/NARCOTIC\", \"DRUNKENNESS\", \"EMBEZZLEMENT\", \"EXTORTION\", \"FAMILY OFFENSES\", \"FORGERY/COUNTERFEITING\", \"FRAUD\", \"GAMBLING\", \"KIDNAPPING\", \"LARCENY/THEFT\", \"LIQUOR LAWS\", \"LOITERING\", \"MISSING PERSON\", \"NON-CRIMINAL\", \"OTHER OFFENSES\", \"PORNOGRAPHY/OBSCENE MAT\", \"PROSTITUTION\", \"RECOVERED VEHICLE\", \"ROBBERY\", \"RUNAWAY\", \"SECONDARY CODES\", \"SEX OFFENSES FORCIBLE\", \"SEX OFFENSES NON FORCIBLE\", \"STOLEN PROPERTY\", \"SUICIDE\", \"SUSPICIOUS OCC\", \"TRESPASS\", \"VANDALISM\", \"VEHICLE THEFT\", \"WARRANTS\", \"WEAPON LAWS\"], \"type\": \"bar\", \"name\": \"SOUTHERN\"}], {\"barmode\": \"stack\", \"margin\": {\"b\": 150}, \"xaxis\": {\"tickangle\": 40}, \"title\": \"Crime counts by district\"}, {\"linkText\": \"Export to plot.ly\", \"showLink\": true})</script>"
      ],
      "text/plain": [
       "<IPython.core.display.HTML object>"
      ]
     },
     "metadata": {},
     "output_type": "display_data"
    }
   ],
   "source": [
    "districts = list(train.PdDistrict.unique())\n",
    "traces = [] # the series in the graph - one trace for each city\n",
    "\n",
    "for district in districts:\n",
    "    t1 = train[train['PdDistrict']==district]\n",
    "    t2 = t1.groupby('Category').size().reset_index()\n",
    "    traces.append(Bar(x=t2['Category'], y=t2[0], name=district))\n",
    "\n",
    "layout = Layout(barmode='stack', xaxis={'tickangle': 40}, margin={'b': 150},\n",
    "               title='Crime counts by district')\n",
    "iplot({'data': traces, 'layout': layout})"
   ]
  },
  {
   "cell_type": "code",
   "execution_count": 67,
   "metadata": {
    "collapsed": false
   },
   "outputs": [
    {
     "data": {
      "text/html": [
       "<div id=\"fde2889e-74a4-4b16-ace2-1990804d6cb9\" style=\"height: 525; width: 100%;\" class=\"plotly-graph-div\"></div><script type=\"text/javascript\">window.PLOTLYENV=window.PLOTLYENV || {};window.PLOTLYENV.BASE_URL=\"https://plot.ly\";Plotly.newPlot(\"fde2889e-74a4-4b16-ace2-1990804d6cb9\", [{\"y\": [0.14150585017474548, 7.8996353137821, 0.05128399939218964, 0.017094666464063213, 5.559565415590336, 0.42926606898647623, 0.24692296003646863, 4.284113356632731, 0.3494909588208479, 0.12441118371068227, 0.02279288861875095, 0.011396444309375475, 1.2270171706427595, 1.9516410879805501, 0.009497036924479563, 0.2193815529554779, 27.19001671478499, 0.11776325786354658, 0.18329281264245556, 1.8576204224282025, 9.724965810667072, 11.617725269715848, 0.004748518462239781, 1.738907460872208, 0.25926910803829206, 2.5072177480626046, 0.08357392493542015, 0.9487539887555083, 0.413121106214861, 0.008547333232031606, 0.6647925847135694, 0.06363014739401307, 3.105531074304817, 0.0009497036924479563, 0.7407688801094059, 5.132198753988756, 5.974585929190093, 4.367687281568151, 0.7493162133414375], \"x\": [\"ARSON\", \"ASSAULT\", \"BAD CHECKS\", \"BRIBERY\", \"BURGLARY\", \"DISORDERLY CONDUCT\", \"DRIVING UNDER THE INFLUENCE\", \"DRUG/NARCOTIC\", \"DRUNKENNESS\", \"EMBEZZLEMENT\", \"EXTORTION\", \"FAMILY OFFENSES\", \"FORGERY/COUNTERFEITING\", \"FRAUD\", \"GAMBLING\", \"KIDNAPPING\", \"LARCENY/THEFT\", \"LIQUOR LAWS\", \"LOITERING\", \"MISSING PERSON\", \"NON-CRIMINAL\", \"OTHER OFFENSES\", \"PORNOGRAPHY/OBSCENE MAT\", \"PROSTITUTION\", \"RECOVERED VEHICLE\", \"ROBBERY\", \"RUNAWAY\", \"SECONDARY CODES\", \"SEX OFFENSES FORCIBLE\", \"SEX OFFENSES NON FORCIBLE\", \"STOLEN PROPERTY\", \"SUICIDE\", \"SUSPICIOUS OCC\", \"TREA\", \"TRESPASS\", \"VANDALISM\", \"VEHICLE THEFT\", \"WARRANTS\", \"WEAPON LAWS\"], \"type\": \"bar\", \"name\": \"NORTHERN\"}, {\"y\": [0.13181108429825805, 7.127937866282725, 0.030417942530367247, 0.014195039847504715, 5.8564678685133735, 0.5495508283819682, 0.35690385902297567, 5.217691075375662, 0.7584207004238234, 0.10139314176789083, 0.01622290268286253, 0.05272443371930323, 1.050432948715349, 1.9751384016385132, 0.0020278628353578164, 0.19061910652363473, 18.54683349218259, 0.30215156246831465, 0.046640845213229774, 5.501591872325756, 12.015087299495063, 12.540303773852736, 0.010139314176789082, 0.2372599517368645, 1.9406647334374303, 0.9835134751485409, 0.9003710988988705, 0.4299069210958571, 0.012167177012146898, 0.3548759961876179, 0.040557256707156326, 3.358140855352544, 0.5880802222537668, 5.298805588789974, 8.036420416523026, 4.7005860523594185, 0.7239470322227405], \"x\": [\"ARSON\", \"ASSAULT\", \"BAD CHECKS\", \"BRIBERY\", \"BURGLARY\", \"DISORDERLY CONDUCT\", \"DRIVING UNDER THE INFLUENCE\", \"DRUG/NARCOTIC\", \"DRUNKENNESS\", \"EMBEZZLEMENT\", \"EXTORTION\", \"FAMILY OFFENSES\", \"FORGERY/COUNTERFEITING\", \"FRAUD\", \"GAMBLING\", \"KIDNAPPING\", \"LARCENY/THEFT\", \"LIQUOR LAWS\", \"LOITERING\", \"MISSING PERSON\", \"NON-CRIMINAL\", \"OTHER OFFENSES\", \"PROSTITUTION\", \"RECOVERED VEHICLE\", \"ROBBERY\", \"RUNAWAY\", \"SECONDARY CODES\", \"SEX OFFENSES FORCIBLE\", \"SEX OFFENSES NON FORCIBLE\", \"STOLEN PROPERTY\", \"SUICIDE\", \"SUSPICIOUS OCC\", \"TRESPASS\", \"VANDALISM\", \"VEHICLE THEFT\", \"WARRANTS\", \"WEAPON LAWS\"], \"type\": \"bar\", \"name\": \"PARK\"}, {\"y\": [0.23083264633140974, 10.822499841461095, 0.040585959794533576, 0.06722049590969624, 4.22474475236223, 0.2168812226520388, 0.2612721161773099, 3.009702581013381, 0.2409791362800431, 0.0989282769991756, 0.03678102606379605, 0.09005009829412138, 1.2391400849768532, 1.5384615384615385, 0.020292979897266788, 0.44137231276555267, 12.982433889276429, 0.13444099181939248, 0.03297609233305853, 4.034498065825353, 8.691736952248082, 16.745513348975837, 0.03297609233305853, 0.8396220432494134, 3.536051747098738, 0.1877100640497178, 1.6488046166529267, 0.6392288667639039, 0.027902847358741836, 0.4401040015219735, 0.08244023083264633, 4.016741708415245, 0.5276174773289365, 6.815904622994482, 11.364068742469401, 3.206290823768153, 1.433191705244467], \"x\": [\"ARSON\", \"ASSAULT\", \"BAD CHECKS\", \"BRIBERY\", \"BURGLARY\", \"DISORDERLY CONDUCT\", \"DRIVING UNDER THE INFLUENCE\", \"DRUG/NARCOTIC\", \"DRUNKENNESS\", \"EMBEZZLEMENT\", \"EXTORTION\", \"FAMILY OFFENSES\", \"FORGERY/COUNTERFEITING\", \"FRAUD\", \"GAMBLING\", \"KIDNAPPING\", \"LARCENY/THEFT\", \"LIQUOR LAWS\", \"LOITERING\", \"MISSING PERSON\", \"NON-CRIMINAL\", \"OTHER OFFENSES\", \"PROSTITUTION\", \"RECOVERED VEHICLE\", \"ROBBERY\", \"RUNAWAY\", \"SECONDARY CODES\", \"SEX OFFENSES FORCIBLE\", \"SEX OFFENSES NON FORCIBLE\", \"STOLEN PROPERTY\", \"SUICIDE\", \"SUSPICIOUS OCC\", \"TRESPASS\", \"VANDALISM\", \"VEHICLE THEFT\", \"WARRANTS\", \"WEAPON LAWS\"], \"type\": \"bar\", \"name\": \"INGLESIDE\"}, {\"y\": [0.43944493520144023, 11.02190515593027, 0.03801813688765641, 0.06261810781496349, 4.394449352014402, 0.2448815287763751, 0.20015430890854402, 5.0295758741376035, 0.2717178606970737, 0.11181804966957766, 0.014536346457045097, 0.08162717625879169, 0.8654717044425311, 0.9683443101385426, 0.032427234404177524, 0.3499904954657781, 11.314868446064564, 0.12747257662331854, 0.05590902483478883, 5.6333933423533225, 6.819782849347542, 19.068332010153078, 0.002236360993391553, 0.07827263476870436, 0.8218626650713958, 3.0358600485290337, 0.2963178316243808, 1.8584159855083808, 0.43273585222126554, 0.024599970927307088, 0.44391765718822335, 0.041372678377743735, 4.367613020093703, 0.00335454149008733, 0.7111627958985139, 5.98897474030258, 8.072145005646812, 4.832776106719146, 1.8416432780579441], \"x\": [\"ARSON\", \"ASSAULT\", \"BAD CHECKS\", \"BRIBERY\", \"BURGLARY\", \"DISORDERLY CONDUCT\", \"DRIVING UNDER THE INFLUENCE\", \"DRUG/NARCOTIC\", \"DRUNKENNESS\", \"EMBEZZLEMENT\", \"EXTORTION\", \"FAMILY OFFENSES\", \"FORGERY/COUNTERFEITING\", \"FRAUD\", \"GAMBLING\", \"KIDNAPPING\", \"LARCENY/THEFT\", \"LIQUOR LAWS\", \"LOITERING\", \"MISSING PERSON\", \"NON-CRIMINAL\", \"OTHER OFFENSES\", \"PORNOGRAPHY/OBSCENE MAT\", \"PROSTITUTION\", \"RECOVERED VEHICLE\", \"ROBBERY\", \"RUNAWAY\", \"SECONDARY CODES\", \"SEX OFFENSES FORCIBLE\", \"SEX OFFENSES NON FORCIBLE\", \"STOLEN PROPERTY\", \"SUICIDE\", \"SUSPICIOUS OCC\", \"TREA\", \"TRESPASS\", \"VANDALISM\", \"VEHICLE THEFT\", \"WARRANTS\", \"WEAPON LAWS\"], \"type\": \"bar\", \"name\": \"BAYVIEW\"}, {\"y\": [0.22783074166648234, 7.082660532194917, 0.06857041739476653, 0.0176955915857462, 5.96341436439647, 0.2388904864075737, 0.7056117144816297, 2.209736999270057, 0.329580393284523, 0.09511380477338582, 0.05087482580902033, 0.05087482580902033, 1.3691963989471123, 2.514985954124179, 0.0088477957928731, 0.23004269061470062, 21.882810944723396, 0.17916786480568028, 0.0176955915857462, 2.6167356057422193, 12.705434758565772, 12.457696476365326, 0.002211948948218275, 0.0530867747572386, 0.2764936185272844, 1.7408038222477826, 0.20792320113251786, 1.1612731978145945, 0.4777809728151474, 0.02211948948218275, 0.4556614833329647, 0.09290185582516755, 4.846380145546241, 0.5419274923134774, 7.033997655334115, 9.10659381981464, 2.234068437700458, 0.7233073060673759], \"x\": [\"ARSON\", \"ASSAULT\", \"BAD CHECKS\", \"BRIBERY\", \"BURGLARY\", \"DISORDERLY CONDUCT\", \"DRIVING UNDER THE INFLUENCE\", \"DRUG/NARCOTIC\", \"DRUNKENNESS\", \"EMBEZZLEMENT\", \"EXTORTION\", \"FAMILY OFFENSES\", \"FORGERY/COUNTERFEITING\", \"FRAUD\", \"GAMBLING\", \"KIDNAPPING\", \"LARCENY/THEFT\", \"LIQUOR LAWS\", \"LOITERING\", \"MISSING PERSON\", \"NON-CRIMINAL\", \"OTHER OFFENSES\", \"PORNOGRAPHY/OBSCENE MAT\", \"PROSTITUTION\", \"RECOVERED VEHICLE\", \"ROBBERY\", \"RUNAWAY\", \"SECONDARY CODES\", \"SEX OFFENSES FORCIBLE\", \"SEX OFFENSES NON FORCIBLE\", \"STOLEN PROPERTY\", \"SUICIDE\", \"SUSPICIOUS OCC\", \"TRESPASS\", \"VANDALISM\", \"VEHICLE THEFT\", \"WARRANTS\", \"WEAPON LAWS\"], \"type\": \"bar\", \"name\": \"RICHMOND\"}, {\"y\": [0.1298853264685233, 8.164053358296279, 0.07605897495904516, 0.01404165691551603, 5.287853966768079, 0.5780482096887433, 0.1872220922068804, 2.1120992277088697, 0.6049613854434823, 0.21062485373274045, 0.05967704189094313, 0.03276386613620407, 1.338637959279195, 2.742803650830798, 0.03627428036508308, 0.2305172010297215, 29.323660191902643, 0.16498946875731335, 0.08190966534051018, 1.5773461268429674, 12.801310554645449, 10.415399017084017, 0.002340276152586005, 0.910367423355956, 0.20828457758015445, 2.3391060145097122, 0.05031593728059911, 0.8237772057102738, 0.461034402059443, 0.008190966534051018, 0.5967704189094313, 0.07020828457758016, 3.3255324128247135, 0.0011701380762930026, 1.0578048209688744, 5.229347062953429, 4.926281301193541, 3.2494734378656682, 0.5698572431546922], \"x\": [\"ARSON\", \"ASSAULT\", \"BAD CHECKS\", \"BRIBERY\", \"BURGLARY\", \"DISORDERLY CONDUCT\", \"DRIVING UNDER THE INFLUENCE\", \"DRUG/NARCOTIC\", \"DRUNKENNESS\", \"EMBEZZLEMENT\", \"EXTORTION\", \"FAMILY OFFENSES\", \"FORGERY/COUNTERFEITING\", \"FRAUD\", \"GAMBLING\", \"KIDNAPPING\", \"LARCENY/THEFT\", \"LIQUOR LAWS\", \"LOITERING\", \"MISSING PERSON\", \"NON-CRIMINAL\", \"OTHER OFFENSES\", \"PORNOGRAPHY/OBSCENE MAT\", \"PROSTITUTION\", \"RECOVERED VEHICLE\", \"ROBBERY\", \"RUNAWAY\", \"SECONDARY CODES\", \"SEX OFFENSES FORCIBLE\", \"SEX OFFENSES NON FORCIBLE\", \"STOLEN PROPERTY\", \"SUICIDE\", \"SUSPICIOUS OCC\", \"TREA\", \"TRESPASS\", \"VANDALISM\", \"VEHICLE THEFT\", \"WARRANTS\", \"WEAPON LAWS\"], \"type\": \"bar\", \"name\": \"CENTRAL\"}, {\"y\": [0.18293798402341607, 8.328251722666016, 0.05488139520702482, 0.025916214403317275, 5.279285322275748, 0.24696627843161167, 0.30794560643941704, 2.33398377949875, 0.39484114885053967, 0.14330142081834257, 0.05488139520702482, 0.05335691200682968, 1.672358070614062, 2.3614244771022626, 0.01219586560156107, 0.29117629123727057, 18.05750350631136, 0.18598695042380634, 0.05183242880663455, 5.167998048661504, 10.547899262150132, 13.131898286480883, 0.006097932800780535, 0.12500762241600097, 0.3994145984511251, 2.141898896274163, 0.6219891456796146, 1.4985669857918165, 0.5838770656747363, 0.02286724800292701, 0.35215561924507593, 0.08994450881151289, 4.567351667784621, 0.5884505152753217, 7.422708701750107, 9.363375815598513, 2.4650893347155316, 0.8643819745106409], \"x\": [\"ARSON\", \"ASSAULT\", \"BAD CHECKS\", \"BRIBERY\", \"BURGLARY\", \"DISORDERLY CONDUCT\", \"DRIVING UNDER THE INFLUENCE\", \"DRUG/NARCOTIC\", \"DRUNKENNESS\", \"EMBEZZLEMENT\", \"EXTORTION\", \"FAMILY OFFENSES\", \"FORGERY/COUNTERFEITING\", \"FRAUD\", \"GAMBLING\", \"KIDNAPPING\", \"LARCENY/THEFT\", \"LIQUOR LAWS\", \"LOITERING\", \"MISSING PERSON\", \"NON-CRIMINAL\", \"OTHER OFFENSES\", \"PORNOGRAPHY/OBSCENE MAT\", \"PROSTITUTION\", \"RECOVERED VEHICLE\", \"ROBBERY\", \"RUNAWAY\", \"SECONDARY CODES\", \"SEX OFFENSES FORCIBLE\", \"SEX OFFENSES NON FORCIBLE\", \"STOLEN PROPERTY\", \"SUICIDE\", \"SUSPICIOUS OCC\", \"TRESPASS\", \"VANDALISM\", \"VEHICLE THEFT\", \"WARRANTS\", \"WEAPON LAWS\"], \"type\": \"bar\", \"name\": \"TARAVAL\"}, {\"y\": [0.07334156388661395, 9.386497818088474, 0.023224828564094416, 0.018335390971653487, 1.8188707843880259, 1.0182253786258235, 0.12590301800535394, 21.63087190895867, 0.536615775770392, 0.11123470522803114, 0.00977887518488186, 0.047672016526299064, 0.6869659817379505, 1.3812661198645626, 0.014668312777322789, 0.25791783300125903, 12.105025119485632, 0.22735884804850323, 0.24569423902015672, 1.0182253786258235, 9.127357625689106, 16.775660379664828, 0.0012223593981102324, 1.10501289589165, 0.16501851874488138, 2.6916353946387317, 0.01100123458299209, 0.8849882042318082, 0.39115500739527437, 0.006111796990551162, 0.4107127577650381, 0.03300370374897627, 3.071789167451014, 1.457052402547397, 1.9753327873461355, 1.2296935544988938, 8.955004950555562, 0.9705533620995245], \"x\": [\"ARSON\", \"ASSAULT\", \"BAD CHECKS\", \"BRIBERY\", \"BURGLARY\", \"DISORDERLY CONDUCT\", \"DRIVING UNDER THE INFLUENCE\", \"DRUG/NARCOTIC\", \"DRUNKENNESS\", \"EMBEZZLEMENT\", \"EXTORTION\", \"FAMILY OFFENSES\", \"FORGERY/COUNTERFEITING\", \"FRAUD\", \"GAMBLING\", \"KIDNAPPING\", \"LARCENY/THEFT\", \"LIQUOR LAWS\", \"LOITERING\", \"MISSING PERSON\", \"NON-CRIMINAL\", \"OTHER OFFENSES\", \"PORNOGRAPHY/OBSCENE MAT\", \"PROSTITUTION\", \"RECOVERED VEHICLE\", \"ROBBERY\", \"RUNAWAY\", \"SECONDARY CODES\", \"SEX OFFENSES FORCIBLE\", \"SEX OFFENSES NON FORCIBLE\", \"STOLEN PROPERTY\", \"SUICIDE\", \"SUSPICIOUS OCC\", \"TRESPASS\", \"VANDALISM\", \"VEHICLE THEFT\", \"WARRANTS\", \"WEAPON LAWS\"], \"type\": \"bar\", \"name\": \"TENDERLOIN\"}, {\"y\": [0.12092604329986323, 9.297961770690863, 0.038362744770991095, 0.05504219901924809, 3.123227807986123, 0.916536010941722, 0.2977282583313874, 7.303099042599326, 0.6521666611068486, 0.10341261633919338, 0.021683290522734096, 0.11842412516262468, 1.0683190446008606, 1.6429262434533143, 0.015011508823431297, 0.26019948627280914, 15.197484738299362, 0.41281649264436066, 0.1592887880708543, 2.737932414851386, 10.317910397971778, 16.12069253094039, 0.0025019181372385496, 3.0264869733462323, 0.2710411315341762, 3.0264869733462323, 0.24852386829902925, 1.200086733162091, 0.5987924075124262, 0.029189044934449744, 0.5262367815325083, 0.06004603529372519, 3.175768088868132, 0.0008339727124128498, 0.8514861393735197, 4.415051539513627, 5.961236948327051, 5.5167294926110015, 1.1083497347966775], \"x\": [\"ARSON\", \"ASSAULT\", \"BAD CHECKS\", \"BRIBERY\", \"BURGLARY\", \"DISORDERLY CONDUCT\", \"DRIVING UNDER THE INFLUENCE\", \"DRUG/NARCOTIC\", \"DRUNKENNESS\", \"EMBEZZLEMENT\", \"EXTORTION\", \"FAMILY OFFENSES\", \"FORGERY/COUNTERFEITING\", \"FRAUD\", \"GAMBLING\", \"KIDNAPPING\", \"LARCENY/THEFT\", \"LIQUOR LAWS\", \"LOITERING\", \"MISSING PERSON\", \"NON-CRIMINAL\", \"OTHER OFFENSES\", \"PORNOGRAPHY/OBSCENE MAT\", \"PROSTITUTION\", \"RECOVERED VEHICLE\", \"ROBBERY\", \"RUNAWAY\", \"SECONDARY CODES\", \"SEX OFFENSES FORCIBLE\", \"SEX OFFENSES NON FORCIBLE\", \"STOLEN PROPERTY\", \"SUICIDE\", \"SUSPICIOUS OCC\", \"TREA\", \"TRESPASS\", \"VANDALISM\", \"VEHICLE THEFT\", \"WARRANTS\", \"WEAPON LAWS\"], \"type\": \"bar\", \"name\": \"MISSION\"}, {\"y\": [0.1176979552366047, 7.750887506203, 0.04707918209464188, 0.02353959104732094, 3.0798691962183966, 0.32510083851840543, 0.1946787800129786, 5.870901248234531, 0.6101207517400211, 0.1749564199463043, 0.024175796210762046, 0.026720616864526474, 1.4919011082693947, 2.1891819674008475, 0.010815487778498811, 0.2163097555699762, 26.6220050641931, 0.244938987924826, 0.27293201511623466, 1.9493326207835502, 12.561870952144648, 13.556259622603097, 0.002544820653764426, 0.08588769706454938, 0.2074028832818007, 2.467203623824611, 0.0687101576516395, 0.7666272219465333, 0.5210520288582662, 0.010815487778498811, 0.6406585995851942, 0.03753610464302528, 3.2223791528292045, 0.926314717970251, 4.1671438205392475, 3.0060693972592283, 5.790739397640952, 0.7176394243615681], \"x\": [\"ARSON\", \"ASSAULT\", \"BAD CHECKS\", \"BRIBERY\", \"BURGLARY\", \"DISORDERLY CONDUCT\", \"DRIVING UNDER THE INFLUENCE\", \"DRUG/NARCOTIC\", \"DRUNKENNESS\", \"EMBEZZLEMENT\", \"EXTORTION\", \"FAMILY OFFENSES\", \"FORGERY/COUNTERFEITING\", \"FRAUD\", \"GAMBLING\", \"KIDNAPPING\", \"LARCENY/THEFT\", \"LIQUOR LAWS\", \"LOITERING\", \"MISSING PERSON\", \"NON-CRIMINAL\", \"OTHER OFFENSES\", \"PORNOGRAPHY/OBSCENE MAT\", \"PROSTITUTION\", \"RECOVERED VEHICLE\", \"ROBBERY\", \"RUNAWAY\", \"SECONDARY CODES\", \"SEX OFFENSES FORCIBLE\", \"SEX OFFENSES NON FORCIBLE\", \"STOLEN PROPERTY\", \"SUICIDE\", \"SUSPICIOUS OCC\", \"TRESPASS\", \"VANDALISM\", \"VEHICLE THEFT\", \"WARRANTS\", \"WEAPON LAWS\"], \"type\": \"bar\", \"name\": \"SOUTHERN\"}], {\"barmode\": \"group\", \"title\": \"Relative Number of crimes by district\", \"margin\": {\"b\": 150}, \"xaxis\": {\"tickangle\": 40, \"range\": [-0.5, 16], \"autorange\": false}, \"yaxis\": {\"title\": \"Percent of crime by district\"}}, {\"linkText\": \"Export to plot.ly\", \"showLink\": true})</script>"
      ],
      "text/plain": [
       "<IPython.core.display.HTML object>"
      ]
     },
     "metadata": {},
     "output_type": "display_data"
    }
   ],
   "source": [
    "#normalize crime counts\n",
    "for trace in traces:\n",
    "    trace['y'] = 100.*trace['y']/sum(trace['y'])\n",
    "\n",
    "iplot({'data': traces, \n",
    "          'layout': Layout(\n",
    "                barmode='group',\n",
    "                xaxis={'tickangle': 40, 'autorange': False, 'range': [-0.5, 16]},\n",
    "                yaxis={'title': 'Percent of crime by district'},\n",
    "                margin={'b': 150},\n",
    "                title='Relative Number of crimes by district')\n",
    "         })"
   ]
  },
  {
   "cell_type": "code",
   "execution_count": 65,
   "metadata": {
    "collapsed": false
   },
   "outputs": [
    {
     "data": {
      "text/html": [
       "<div id=\"ed952a2a-bd7c-4cc6-b4cd-6d0c64b5fa12\" style=\"height: 525; width: 100%;\" class=\"plotly-graph-div\"></div><script type=\"text/javascript\">window.PLOTLYENV=window.PLOTLYENV || {};window.PLOTLYENV.BASE_URL=\"https://plot.ly\";Plotly.newPlot(\"ed952a2a-bd7c-4cc6-b4cd-6d0c64b5fa12\", [{\"y\": [4322, 2777, 2528, 6615, 4599, 2318, 1010, 9102, 1617, 7326], \"x\": [\"BAYVIEW\", \"CENTRAL\", \"INGLESIDE\", \"MISSION\", \"NORTHERN\", \"PARK\", \"RICHMOND\", \"SOUTHERN\", \"TARAVAL\", \"TENDERLOIN\"], \"type\": \"bar\", \"name\": \"WARRANTS\"}, {\"y\": [17053, 8901, 13203, 19330, 12233, 6184, 5632, 21308, 8614, 13724], \"x\": [\"BAYVIEW\", \"CENTRAL\", \"INGLESIDE\", \"MISSION\", \"NORTHERN\", \"PARK\", \"RICHMOND\", \"SOUTHERN\", \"TARAVAL\", \"TENDERLOIN\"], \"type\": \"bar\", \"name\": \"OTHER OFFENSES\"}, {\"y\": [10119, 25060, 10236, 18223, 28630, 9146, 9893, 41845, 11845, 9903], \"x\": [\"BAYVIEW\", \"CENTRAL\", \"INGLESIDE\", \"MISSION\", \"NORTHERN\", \"PARK\", \"RICHMOND\", \"SOUTHERN\", \"TARAVAL\", \"TENDERLOIN\"], \"type\": \"bar\", \"name\": \"LARCENY/THEFT\"}, {\"y\": [7219, 4210, 8960, 7148, 6291, 3963, 4117, 4725, 6142, 1006], \"x\": [\"BAYVIEW\", \"CENTRAL\", \"INGLESIDE\", \"MISSION\", \"NORTHERN\", \"PARK\", \"RICHMOND\", \"SOUTHERN\", \"TARAVAL\", \"TENDERLOIN\"], \"type\": \"bar\", \"name\": \"VEHICLE THEFT\"}, {\"y\": [5356, 4469, 5374, 5294, 5404, 2613, 3180, 6550, 4869, 1616], \"x\": [\"BAYVIEW\", \"CENTRAL\", \"INGLESIDE\", \"MISSION\", \"NORTHERN\", \"PARK\", \"RICHMOND\", \"SOUTHERN\", \"TARAVAL\", \"TENDERLOIN\"], \"type\": \"bar\", \"name\": \"VANDALISM\"}, {\"y\": [6099, 10940, 6853, 12372, 10240, 5925, 5744, 19745, 6919, 7467], \"x\": [\"BAYVIEW\", \"CENTRAL\", \"INGLESIDE\", \"MISSION\", \"NORTHERN\", \"PARK\", \"RICHMOND\", \"SOUTHERN\", \"TARAVAL\", \"TENDERLOIN\"], \"type\": \"bar\", \"name\": \"NON-CRIMINAL\"}, {\"y\": [2715, 1999, 2788, 3629, 2640, 957, 787, 3878, 1405, 2202], \"x\": [\"BAYVIEW\", \"CENTRAL\", \"INGLESIDE\", \"MISSION\", \"NORTHERN\", \"PARK\", \"RICHMOND\", \"SOUTHERN\", \"TARAVAL\", \"TENDERLOIN\"], \"type\": \"bar\", \"name\": \"ROBBERY\"}, {\"y\": [9857, 6977, 8533, 11149, 8318, 3515, 3202, 12183, 5463, 7679], \"x\": [\"BAYVIEW\", \"CENTRAL\", \"INGLESIDE\", \"MISSION\", \"NORTHERN\", \"PARK\", \"RICHMOND\", \"SOUTHERN\", \"TARAVAL\", \"TENDERLOIN\"], \"type\": \"bar\", \"name\": \"ASSAULT\"}, {\"y\": [1647, 487, 1130, 1329, 789, 357, 327, 1128, 567, 794], \"x\": [\"BAYVIEW\", \"CENTRAL\", \"INGLESIDE\", \"MISSION\", \"NORTHERN\", \"PARK\", \"RICHMOND\", \"SOUTHERN\", \"TARAVAL\", \"TENDERLOIN\"], \"type\": \"bar\", \"name\": \"WEAPON LAWS\"}, {\"y\": [3930, 4519, 3331, 3745, 5854, 2888, 2696, 4841, 3463, 1488], \"x\": [\"BAYVIEW\", \"CENTRAL\", \"INGLESIDE\", \"MISSION\", \"NORTHERN\", \"PARK\", \"RICHMOND\", \"SOUTHERN\", \"TARAVAL\", \"TENDERLOIN\"], \"type\": \"bar\", \"name\": \"BURGLARY\"}, {\"y\": [3906, 2842, 3167, 3808, 3270, 1656, 2191, 5065, 2996, 2513], \"x\": [\"BAYVIEW\", \"CENTRAL\", \"INGLESIDE\", \"MISSION\", \"NORTHERN\", \"PARK\", \"RICHMOND\", \"SOUTHERN\", \"TARAVAL\", \"TENDERLOIN\"], \"type\": \"bar\", \"name\": \"SUSPICIOUS OCC\"}, {\"y\": [243, 517, 190, 782, 368, 374, 149, 959, 259, 439], \"x\": [\"BAYVIEW\", \"CENTRAL\", \"INGLESIDE\", \"MISSION\", \"NORTHERN\", \"PARK\", \"RICHMOND\", \"SOUTHERN\", \"TARAVAL\", \"TENDERLOIN\"], \"type\": \"bar\", \"name\": \"DRUNKENNESS\"}, {\"y\": [774, 1144, 977, 1281, 1292, 518, 619, 2345, 1097, 562], \"x\": [\"BAYVIEW\", \"CENTRAL\", \"INGLESIDE\", \"MISSION\", \"NORTHERN\", \"PARK\", \"RICHMOND\", \"SOUTHERN\", \"TARAVAL\", \"TENDERLOIN\"], \"type\": \"bar\", \"name\": \"FORGERY/COUNTERFEITING\"}, {\"y\": [4498, 1805, 2373, 8757, 4511, 2573, 999, 9228, 1531, 17696], \"x\": [\"BAYVIEW\", \"CENTRAL\", \"INGLESIDE\", \"MISSION\", \"NORTHERN\", \"PARK\", \"RICHMOND\", \"SOUTHERN\", \"TARAVAL\", \"TENDERLOIN\"], \"type\": \"bar\", \"name\": \"DRUG/NARCOTIC\"}, {\"y\": [397, 510, 347, 631, 700, 175, 206, 1007, 231, 336], \"x\": [\"BAYVIEW\", \"CENTRAL\", \"INGLESIDE\", \"MISSION\", \"NORTHERN\", \"PARK\", \"RICHMOND\", \"SOUTHERN\", \"TARAVAL\", \"TENDERLOIN\"], \"type\": \"bar\", \"name\": \"STOLEN PROPERTY\"}, {\"y\": [1662, 704, 1300, 1439, 999, 444, 525, 1205, 983, 724], \"x\": [\"BAYVIEW\", \"CENTRAL\", \"INGLESIDE\", \"MISSION\", \"NORTHERN\", \"PARK\", \"RICHMOND\", \"SOUTHERN\", \"TARAVAL\", \"TENDERLOIN\"], \"type\": \"bar\", \"name\": \"SECONDARY CODES\"}, {\"y\": [636, 904, 416, 1021, 780, 290, 245, 1456, 386, 1192], \"x\": [\"BAYVIEW\", \"CENTRAL\", \"INGLESIDE\", \"MISSION\", \"NORTHERN\", \"PARK\", \"RICHMOND\", \"SOUTHERN\", \"TARAVAL\", \"TENDERLOIN\"], \"type\": \"bar\", \"name\": \"TRESPASS\"}, {\"y\": [5038, 1348, 3181, 3283, 1956, 2713, 1183, 3064, 3390, 833], \"x\": [\"BAYVIEW\", \"CENTRAL\", \"INGLESIDE\", \"MISSION\", \"NORTHERN\", \"PARK\", \"RICHMOND\", \"SOUTHERN\", \"TARAVAL\", \"TENDERLOIN\"], \"type\": \"bar\", \"name\": \"MISSING PERSON\"}, {\"y\": [866, 2344, 1213, 1970, 2055, 974, 1137, 3441, 1549, 1130], \"x\": [\"BAYVIEW\", \"CENTRAL\", \"INGLESIDE\", \"MISSION\", \"NORTHERN\", \"PARK\", \"RICHMOND\", \"SOUTHERN\", \"TARAVAL\", \"TENDERLOIN\"], \"type\": \"bar\", \"name\": \"FRAUD\"}, {\"y\": [313, 197, 348, 312, 231, 94, 104, 340, 191, 211], \"x\": [\"BAYVIEW\", \"CENTRAL\", \"INGLESIDE\", \"MISSION\", \"NORTHERN\", \"PARK\", \"RICHMOND\", \"SOUTHERN\", \"TARAVAL\", \"TENDERLOIN\"], \"type\": \"bar\", \"name\": \"KIDNAPPING\"}, {\"y\": [265, 43, 148, 298, 88, 485, 94, 108, 408, 9], \"x\": [\"BAYVIEW\", \"CENTRAL\", \"INGLESIDE\", \"MISSION\", \"NORTHERN\", \"PARK\", \"RICHMOND\", \"SOUTHERN\", \"TARAVAL\", \"TENDERLOIN\"], \"type\": \"bar\", \"name\": \"RUNAWAY\"}, {\"y\": [179, 160, 206, 357, 260, 176, 319, 306, 202, 103], \"x\": [\"BAYVIEW\", \"CENTRAL\", \"INGLESIDE\", \"MISSION\", \"NORTHERN\", \"PARK\", \"RICHMOND\", \"SOUTHERN\", \"TARAVAL\", \"TENDERLOIN\"], \"type\": \"bar\", \"name\": \"DRIVING UNDER THE INFLUENCE\"}, {\"y\": [387, 394, 504, 718, 435, 212, 216, 819, 383, 320], \"x\": [\"BAYVIEW\", \"CENTRAL\", \"INGLESIDE\", \"MISSION\", \"NORTHERN\", \"PARK\", \"RICHMOND\", \"SOUTHERN\", \"TARAVAL\", \"TENDERLOIN\"], \"type\": \"bar\", \"name\": \"SEX OFFENSES FORCIBLE\"}, {\"y\": [70, 778, 26, 3629, 1831, 5, 24, 135, 82, 904], \"x\": [\"BAYVIEW\", \"CENTRAL\", \"INGLESIDE\", \"MISSION\", \"NORTHERN\", \"PARK\", \"RICHMOND\", \"SOUTHERN\", \"TARAVAL\", \"TENDERLOIN\"], \"type\": \"bar\", \"name\": \"PROSTITUTION\"}, {\"y\": [219, 494, 171, 1099, 452, 271, 108, 511, 162, 833], \"x\": [\"BAYVIEW\", \"CENTRAL\", \"INGLESIDE\", \"MISSION\", \"NORTHERN\", \"PARK\", \"RICHMOND\", \"SOUTHERN\", \"TARAVAL\", \"TENDERLOIN\"], \"type\": \"bar\", \"name\": \"DISORDERLY CONDUCT\"}, {\"y\": [393, 111, 182, 145, 149, 65, 103, 185, 120, 60], \"x\": [\"BAYVIEW\", \"CENTRAL\", \"INGLESIDE\", \"MISSION\", \"NORTHERN\", \"PARK\", \"RICHMOND\", \"SOUTHERN\", \"TARAVAL\", \"TENDERLOIN\"], \"type\": \"bar\", \"name\": \"ARSON\"}, {\"y\": [73, 28, 71, 142, 12, 26, 23, 42, 35, 39], \"x\": [\"BAYVIEW\", \"CENTRAL\", \"INGLESIDE\", \"MISSION\", \"NORTHERN\", \"PARK\", \"RICHMOND\", \"SOUTHERN\", \"TARAVAL\", \"TENDERLOIN\"], \"type\": \"bar\", \"name\": \"FAMILY OFFENSES\"}, {\"y\": [114, 141, 106, 495, 124, 149, 81, 385, 122, 186], \"x\": [\"BAYVIEW\", \"CENTRAL\", \"INGLESIDE\", \"MISSION\", \"NORTHERN\", \"PARK\", \"RICHMOND\", \"SOUTHERN\", \"TARAVAL\", \"TENDERLOIN\"], \"type\": \"bar\", \"name\": \"LIQUOR LAWS\"}, {\"y\": [56, 12, 53, 66, 18, 7, 8, 37, 17, 15], \"x\": [\"BAYVIEW\", \"CENTRAL\", \"INGLESIDE\", \"MISSION\", \"NORTHERN\", \"PARK\", \"RICHMOND\", \"SOUTHERN\", \"TARAVAL\", \"TENDERLOIN\"], \"type\": \"bar\", \"name\": \"BRIBERY\"}, {\"y\": [100, 180, 78, 124, 131, 50, 43, 275, 94, 91], \"x\": [\"BAYVIEW\", \"CENTRAL\", \"INGLESIDE\", \"MISSION\", \"NORTHERN\", \"PARK\", \"RICHMOND\", \"SOUTHERN\", \"TARAVAL\", \"TENDERLOIN\"], \"type\": \"bar\", \"name\": \"EMBEZZLEMENT\"}, {\"y\": [37, 60, 65, 72, 67, 20, 42, 59, 59, 27], \"x\": [\"BAYVIEW\", \"CENTRAL\", \"INGLESIDE\", \"MISSION\", \"NORTHERN\", \"PARK\", \"RICHMOND\", \"SOUTHERN\", \"TARAVAL\", \"TENDERLOIN\"], \"type\": \"bar\", \"name\": \"SUICIDE\"}, {\"y\": [50, 70, 26, 191, 193, 23, 8, 429, 34, 201], \"x\": [\"BAYVIEW\", \"CENTRAL\", \"INGLESIDE\", \"MISSION\", \"NORTHERN\", \"PARK\", \"RICHMOND\", \"SOUTHERN\", \"TARAVAL\", \"TENDERLOIN\"], \"type\": \"bar\", \"name\": \"LOITERING\"}, {\"y\": [22, 7, 22, 35, 9, 6, 10, 17, 15, 5], \"x\": [\"BAYVIEW\", \"CENTRAL\", \"INGLESIDE\", \"MISSION\", \"NORTHERN\", \"PARK\", \"RICHMOND\", \"SOUTHERN\", \"TARAVAL\", \"TENDERLOIN\"], \"type\": \"bar\", \"name\": \"SEX OFFENSES NON FORCIBLE\"}, {\"y\": [13, 51, 29, 26, 24, 8, 23, 38, 36, 8], \"x\": [\"BAYVIEW\", \"CENTRAL\", \"INGLESIDE\", \"MISSION\", \"NORTHERN\", \"PARK\", \"RICHMOND\", \"SOUTHERN\", \"TARAVAL\", \"TENDERLOIN\"], \"type\": \"bar\", \"name\": \"EXTORTION\"}, {\"y\": [29, 31, 16, 18, 10, 1, 4, 17, 8, 12], \"x\": [\"BAYVIEW\", \"CENTRAL\", \"INGLESIDE\", \"MISSION\", \"NORTHERN\", \"PARK\", \"RICHMOND\", \"SOUTHERN\", \"TARAVAL\", \"TENDERLOIN\"], \"type\": \"bar\", \"name\": \"GAMBLING\"}, {\"y\": [34, 65, 32, 46, 54, 15, 31, 74, 36, 19], \"x\": [\"BAYVIEW\", \"CENTRAL\", \"INGLESIDE\", \"MISSION\", \"NORTHERN\", \"PARK\", \"RICHMOND\", \"SOUTHERN\", \"TARAVAL\", \"TENDERLOIN\"], \"type\": \"bar\", \"name\": \"BAD CHECKS\"}, {\"y\": [3, 1, 1, 1], \"x\": [\"BAYVIEW\", \"CENTRAL\", \"MISSION\", \"NORTHERN\"], \"type\": \"bar\", \"name\": \"TREA\"}, {\"y\": [735, 178, 662, 325, 273, 117, 125, 326, 262, 135], \"x\": [\"BAYVIEW\", \"CENTRAL\", \"INGLESIDE\", \"MISSION\", \"NORTHERN\", \"PARK\", \"RICHMOND\", \"SOUTHERN\", \"TARAVAL\", \"TENDERLOIN\"], \"type\": \"bar\", \"name\": \"RECOVERED VEHICLE\"}, {\"y\": [2, 2, 3, 5, 1, 4, 4, 1], \"x\": [\"BAYVIEW\", \"CENTRAL\", \"MISSION\", \"NORTHERN\", \"RICHMOND\", \"SOUTHERN\", \"TARAVAL\", \"TENDERLOIN\"], \"type\": \"bar\", \"name\": \"PORNOGRAPHY/OBSCENE MAT\"}], {\"barmode\": \"stack\", \"margin\": {\"b\": 150}, \"xaxis\": {\"tickangle\": 40}, \"title\": \"All crime counts in each police district\"}, {\"linkText\": \"Export to plot.ly\", \"showLink\": true})</script>"
      ],
      "text/plain": [
       "<IPython.core.display.HTML object>"
      ]
     },
     "metadata": {},
     "output_type": "display_data"
    }
   ],
   "source": [
    "crimes = list(train.Category.unique())\n",
    "traces = [] # the series in the graph - one trace for each city\n",
    "\n",
    "for crime in crimes:\n",
    "    t1 = train[train['Category']==crime]\n",
    "    t2 = t1.groupby('PdDistrict').size().reset_index()\n",
    "    traces.append(Bar(x=t2['PdDistrict'], y=t2[0], name=crime))\n",
    "    \n",
    "layout = Layout(barmode='stack', xaxis={'tickangle': 40}, margin={'b': 150},\n",
    "               title='All crime counts in each police district')\n",
    "iplot({'data': traces, 'layout': layout})"
   ]
  },
  {
   "cell_type": "code",
   "execution_count": 64,
   "metadata": {
    "collapsed": false
   },
   "outputs": [
    {
     "data": {
      "text/html": [
       "<div id=\"6ed61ecb-7cdb-421e-8365-998b854b1ce8\" style=\"height: 525; width: 100%;\" class=\"plotly-graph-div\"></div><script type=\"text/javascript\">window.PLOTLYENV=window.PLOTLYENV || {};window.PLOTLYENV.BASE_URL=\"https://plot.ly\";Plotly.newPlot(\"6ed61ecb-7cdb-421e-8365-998b854b1ce8\", [{\"y\": [4322, 2777, 2528, 6615, 4599, 2318, 1010, 9102, 1617, 7326], \"x\": [\"BAYVIEW\", \"CENTRAL\", \"INGLESIDE\", \"MISSION\", \"NORTHERN\", \"PARK\", \"RICHMOND\", \"SOUTHERN\", \"TARAVAL\", \"TENDERLOIN\"], \"type\": \"bar\", \"name\": \"WARRANTS\"}, {\"y\": [17053, 8901, 13203, 19330, 12233, 6184, 5632, 21308, 8614, 13724], \"x\": [\"BAYVIEW\", \"CENTRAL\", \"INGLESIDE\", \"MISSION\", \"NORTHERN\", \"PARK\", \"RICHMOND\", \"SOUTHERN\", \"TARAVAL\", \"TENDERLOIN\"], \"type\": \"bar\", \"name\": \"OTHER OFFENSES\"}, {\"y\": [10119, 25060, 10236, 18223, 28630, 9146, 9893, 41845, 11845, 9903], \"x\": [\"BAYVIEW\", \"CENTRAL\", \"INGLESIDE\", \"MISSION\", \"NORTHERN\", \"PARK\", \"RICHMOND\", \"SOUTHERN\", \"TARAVAL\", \"TENDERLOIN\"], \"type\": \"bar\", \"name\": \"LARCENY/THEFT\"}, {\"y\": [7219, 4210, 8960, 7148, 6291, 3963, 4117, 4725, 6142, 1006], \"x\": [\"BAYVIEW\", \"CENTRAL\", \"INGLESIDE\", \"MISSION\", \"NORTHERN\", \"PARK\", \"RICHMOND\", \"SOUTHERN\", \"TARAVAL\", \"TENDERLOIN\"], \"type\": \"bar\", \"name\": \"VEHICLE THEFT\"}, {\"y\": [5356, 4469, 5374, 5294, 5404, 2613, 3180, 6550, 4869, 1616], \"x\": [\"BAYVIEW\", \"CENTRAL\", \"INGLESIDE\", \"MISSION\", \"NORTHERN\", \"PARK\", \"RICHMOND\", \"SOUTHERN\", \"TARAVAL\", \"TENDERLOIN\"], \"type\": \"bar\", \"name\": \"VANDALISM\"}, {\"y\": [6099, 10940, 6853, 12372, 10240, 5925, 5744, 19745, 6919, 7467], \"x\": [\"BAYVIEW\", \"CENTRAL\", \"INGLESIDE\", \"MISSION\", \"NORTHERN\", \"PARK\", \"RICHMOND\", \"SOUTHERN\", \"TARAVAL\", \"TENDERLOIN\"], \"type\": \"bar\", \"name\": \"NON-CRIMINAL\"}, {\"y\": [9857, 6977, 8533, 11149, 8318, 3515, 3202, 12183, 5463, 7679], \"x\": [\"BAYVIEW\", \"CENTRAL\", \"INGLESIDE\", \"MISSION\", \"NORTHERN\", \"PARK\", \"RICHMOND\", \"SOUTHERN\", \"TARAVAL\", \"TENDERLOIN\"], \"type\": \"bar\", \"name\": \"ASSAULT\"}, {\"y\": [3930, 4519, 3331, 3745, 5854, 2888, 2696, 4841, 3463, 1488], \"x\": [\"BAYVIEW\", \"CENTRAL\", \"INGLESIDE\", \"MISSION\", \"NORTHERN\", \"PARK\", \"RICHMOND\", \"SOUTHERN\", \"TARAVAL\", \"TENDERLOIN\"], \"type\": \"bar\", \"name\": \"BURGLARY\"}, {\"y\": [3906, 2842, 3167, 3808, 3270, 1656, 2191, 5065, 2996, 2513], \"x\": [\"BAYVIEW\", \"CENTRAL\", \"INGLESIDE\", \"MISSION\", \"NORTHERN\", \"PARK\", \"RICHMOND\", \"SOUTHERN\", \"TARAVAL\", \"TENDERLOIN\"], \"type\": \"bar\", \"name\": \"SUSPICIOUS OCC\"}, {\"y\": [4498, 1805, 2373, 8757, 4511, 2573, 999, 9228, 1531, 17696], \"x\": [\"BAYVIEW\", \"CENTRAL\", \"INGLESIDE\", \"MISSION\", \"NORTHERN\", \"PARK\", \"RICHMOND\", \"SOUTHERN\", \"TARAVAL\", \"TENDERLOIN\"], \"type\": \"bar\", \"name\": \"DRUG/NARCOTIC\"}], {\"barmode\": \"stack\", \"margin\": {\"b\": 150}, \"xaxis\": {\"tickangle\": 40}, \"title\": \"Top 10 crime counts in each police district\"}, {\"linkText\": \"Export to plot.ly\", \"showLink\": true})</script>"
      ],
      "text/plain": [
       "<IPython.core.display.HTML object>"
      ]
     },
     "metadata": {},
     "output_type": "display_data"
    }
   ],
   "source": [
    "#use top10 crimes to simplify stacked barplot for each district\n",
    "crimes = list(train_subset.Category.unique())\n",
    "traces = [] # the series in the graph - one trace for each city\n",
    "\n",
    "for crime in crimes:\n",
    "    t1 = train_subset[train_subset['Category']==crime]\n",
    "    t2 = t1.groupby('PdDistrict').size().reset_index()\n",
    "    traces.append(Bar(x=t2['PdDistrict'], y=t2[0], name=crime))\n",
    "    \n",
    "layout = Layout(barmode='stack', xaxis={'tickangle': 40}, margin={'b': 150},\n",
    "               title='Top 10 crime counts in each police district')\n",
    "iplot({'data': traces, 'layout': layout})"
   ]
  },
  {
   "cell_type": "code",
   "execution_count": 73,
   "metadata": {
    "collapsed": false
   },
   "outputs": [
    {
     "data": {
      "text/html": [
       "<div id=\"285414b0-68c0-4a61-958c-61bd66de5045\" style=\"height: 525; width: 100%;\" class=\"plotly-graph-div\"></div><script type=\"text/javascript\">window.PLOTLYENV=window.PLOTLYENV || {};window.PLOTLYENV.BASE_URL=\"https://plot.ly\";Plotly.newPlot(\"285414b0-68c0-4a61-958c-61bd66de5045\", [{\"y\": [10.238309565546976, 6.5783863173354815, 5.988534609371299, 15.670156820012318, 10.894489979627611, 5.491069313497892, 2.392571184914957, 21.56156725257024, 3.8304827782252335, 17.354432178897994], \"x\": [\"BAYVIEW\", \"CENTRAL\", \"INGLESIDE\", \"MISSION\", \"NORTHERN\", \"PARK\", \"RICHMOND\", \"SOUTHERN\", \"TARAVAL\", \"TENDERLOIN\"], \"type\": \"bar\", \"name\": \"WARRANTS\"}, {\"y\": [13.514605886735033, 7.054096463837948, 10.463457545450222, 15.319142191437765, 9.694726664658985, 4.900857491559811, 4.463394144965209, 16.886719183401752, 6.826647223851262, 10.876353204102012], \"x\": [\"BAYVIEW\", \"CENTRAL\", \"INGLESIDE\", \"MISSION\", \"NORTHERN\", \"PARK\", \"RICHMOND\", \"SOUTHERN\", \"TARAVAL\", \"TENDERLOIN\"], \"type\": \"bar\", \"name\": \"OTHER OFFENSES\"}, {\"y\": [5.785591766723842, 14.328187535734706, 5.852487135506004, 10.419096626643796, 16.36935391652373, 5.229273870783305, 5.656375071469411, 23.92510005717553, 6.772441395082905, 5.6620926243567755], \"x\": [\"BAYVIEW\", \"CENTRAL\", \"INGLESIDE\", \"MISSION\", \"NORTHERN\", \"PARK\", \"RICHMOND\", \"SOUTHERN\", \"TARAVAL\", \"TENDERLOIN\"], \"type\": \"bar\", \"name\": \"LARCENY/THEFT\"}, {\"y\": [13.422956062549972, 7.828043361038285, 16.66015879213849, 13.290939179264052, 11.697439616221342, 7.368773358621074, 7.655119837860955, 8.78563061304178, 11.420390100593146, 1.870549078670906], \"x\": [\"BAYVIEW\", \"CENTRAL\", \"INGLESIDE\", \"MISSION\", \"NORTHERN\", \"PARK\", \"RICHMOND\", \"SOUTHERN\", \"TARAVAL\", \"TENDERLOIN\"], \"type\": \"bar\", \"name\": \"VEHICLE THEFT\"}, {\"y\": [11.97540525433203, 9.992174399105645, 12.015651201788708, 11.836780324203465, 12.082727780883175, 5.842370039128005, 7.1101173840134155, 14.645053102291783, 10.886528787031862, 3.6131917272219116], \"x\": [\"BAYVIEW\", \"CENTRAL\", \"INGLESIDE\", \"MISSION\", \"NORTHERN\", \"PARK\", \"RICHMOND\", \"SOUTHERN\", \"TARAVAL\", \"TENDERLOIN\"], \"type\": \"bar\", \"name\": \"VANDALISM\"}, {\"y\": [6.6075143005720225, 11.852140752296759, 7.424380308545675, 13.403536141445658, 11.09377708441671, 6.419006760270411, 6.222915583289998, 21.39127231755937, 7.49588316866008, 8.089573582943318], \"x\": [\"BAYVIEW\", \"CENTRAL\", \"INGLESIDE\", \"MISSION\", \"NORTHERN\", \"PARK\", \"RICHMOND\", \"SOUTHERN\", \"TARAVAL\", \"TENDERLOIN\"], \"type\": \"bar\", \"name\": \"NON-CRIMINAL\"}, {\"y\": [12.82194703158333, 9.075654300431864, 11.099693012123419, 14.502575576252667, 10.820021853374264, 4.572298246526874, 4.1651490712315935, 15.84759873042302, 7.106249024402935, 9.988813153650034], \"x\": [\"BAYVIEW\", \"CENTRAL\", \"INGLESIDE\", \"MISSION\", \"NORTHERN\", \"PARK\", \"RICHMOND\", \"SOUTHERN\", \"TARAVAL\", \"TENDERLOIN\"], \"type\": \"bar\", \"name\": \"ASSAULT\"}, {\"y\": [10.692422799619099, 12.294925860427153, 9.062712556114814, 10.18908991973881, 15.9270847503741, 7.8574343626717456, 7.335056454904095, 13.170997143245817, 9.421847367705075, 4.048428785199293], \"x\": [\"BAYVIEW\", \"CENTRAL\", \"INGLESIDE\", \"MISSION\", \"NORTHERN\", \"PARK\", \"RICHMOND\", \"SOUTHERN\", \"TARAVAL\", \"TENDERLOIN\"], \"type\": \"bar\", \"name\": \"BURGLARY\"}, {\"y\": [12.433946647991341, 9.046921754631693, 10.081492328261286, 12.12198382886611, 10.409371617750049, 5.271534984401859, 6.974597313299802, 16.123384478258103, 9.537149041828485, 7.999618004711275], \"x\": [\"BAYVIEW\", \"CENTRAL\", \"INGLESIDE\", \"MISSION\", \"NORTHERN\", \"PARK\", \"RICHMOND\", \"SOUTHERN\", \"TARAVAL\", \"TENDERLOIN\"], \"type\": \"bar\", \"name\": \"SUSPICIOUS OCC\"}, {\"y\": [8.334105352874692, 3.344388653165589, 4.396805691945675, 16.225380296826074, 8.358192362565081, 4.767375071797817, 1.8509940523614534, 17.09807118637787, 2.8367086027681534, 32.787978729317594], \"x\": [\"BAYVIEW\", \"CENTRAL\", \"INGLESIDE\", \"MISSION\", \"NORTHERN\", \"PARK\", \"RICHMOND\", \"SOUTHERN\", \"TARAVAL\", \"TENDERLOIN\"], \"type\": \"bar\", \"name\": \"DRUG/NARCOTIC\"}], {\"barmode\": \"group\", \"title\": \"Relative Number of top 10 crimes by district\", \"margin\": {\"b\": 150}, \"xaxis\": {\"tickangle\": 40, \"range\": [-0.5, 16], \"autorange\": false}, \"yaxis\": {\"title\": \"Percent of crime by district\"}}, {\"linkText\": \"Export to plot.ly\", \"showLink\": true})</script>"
      ],
      "text/plain": [
       "<IPython.core.display.HTML object>"
      ]
     },
     "metadata": {},
     "output_type": "display_data"
    }
   ],
   "source": [
    "#normalize for each each district\n",
    "crimes = list(train_subset.Category.unique())\n",
    "traces = [] # the series in the graph - one trace for each city\n",
    "\n",
    "\n",
    "\n",
    "for crime in crimes:\n",
    "    t1 = train_subset[train_subset['Category']==crime]\n",
    "    t2 = t1.groupby('PdDistrict').size().reset_index()\n",
    "    traces.append(Bar(x=t2['PdDistrict'], y=t2[0], name=crime))\n",
    "    \n",
    "for trace in traces:\n",
    "    trace['y'] = 100.*trace['y']/sum(trace['y'])\n",
    "\n",
    "iplot({'data': traces, \n",
    "          'layout': Layout(\n",
    "                barmode='group',\n",
    "                xaxis={'tickangle': 40, 'autorange': False, 'range': [-0.5, 16]},\n",
    "                yaxis={'title': 'Percent of crime by district'},\n",
    "                margin={'b': 150},\n",
    "                title='Relative Number of top 10 crimes by district')\n",
    "         })\n",
    "    "
   ]
  },
  {
   "cell_type": "code",
   "execution_count": null,
   "metadata": {
    "collapsed": true
   },
   "outputs": [],
   "source": []
  },
  {
   "cell_type": "code",
   "execution_count": null,
   "metadata": {
    "collapsed": true
   },
   "outputs": [],
   "source": []
  },
  {
   "cell_type": "markdown",
   "metadata": {},
   "source": [
    "# Stacked barplot of crime by hour"
   ]
  },
  {
   "cell_type": "code",
   "execution_count": 48,
   "metadata": {
    "collapsed": true
   },
   "outputs": [],
   "source": [
    "#function to plot top10_crimes by stacked barplot, over hour or dayofweek or month\n",
    "#df is dataframe, col is hour/dayofweek/month, target_range is range (1,24) \n",
    "#add normalized parameter \n",
    "\n",
    "def plotly_crime(df,col,target_range, normalized=False):\n",
    "    crime_traces = {}\n",
    "    crime_traces['total'] = {} #total to store sum for normalization\n",
    "    for item in target_range:\n",
    "        t1 = df[df[col]==item]\n",
    "        t2 = t1.groupby('Category').size().reset_index().sort_values(0,ascending=False)\n",
    "        crime_traces['total'][item] = sum(t2[0]) #0 is the column with counts\n",
    "    \n",
    "        for i in range(10):\n",
    "            crime = t2.get_value(i,'Category')\n",
    "            if normalized:\n",
    "                count = t2.get_value(i,0)/float(crime_traces['total'][item])\n",
    "            else:\n",
    "                count = t2.get_value(i,0)\n",
    "            if crime in crime_traces:\n",
    "                crime_traces[crime][item] = count\n",
    "            else:\n",
    "                crime_traces[crime] = {item:count}\n",
    "    \n",
    "    traces = []\n",
    "    for crime in crime_traces:\n",
    "        if crime!='total':\n",
    "            traces.append({\n",
    "                    'x':target_range,\n",
    "                    'y':[crime_traces[crime].get(i,None) for i in target_range],\n",
    "                    'name':crime,\n",
    "                    'type':'bar'\n",
    "                }\n",
    "            )\n",
    "    \n",
    "    return traces"
   ]
  },
  {
   "cell_type": "code",
   "execution_count": 49,
   "metadata": {
    "collapsed": true
   },
   "outputs": [],
   "source": [
    "hour_traces = plotly_crime(train_subset,'hour',range(1,24))"
   ]
  },
  {
   "cell_type": "code",
   "execution_count": 50,
   "metadata": {
    "collapsed": false
   },
   "outputs": [
    {
     "data": {
      "text/html": [
       "<div id=\"97737dfb-79c2-46d7-bb47-816cd569d51f\" style=\"height: 525; width: 100%;\" class=\"plotly-graph-div\"></div><script type=\"text/javascript\">window.PLOTLYENV=window.PLOTLYENV || {};window.PLOTLYENV.BASE_URL=\"https://plot.ly\";Plotly.newPlot(\"97737dfb-79c2-46d7-bb47-816cd569d51f\", [{\"y\": [1205, 977, 694, 567, 399, 715, 1337, 1591, 1839, 2077, 2079, 2276, 2432, 2449, 2468, 2679, 2776, 2495, 2169, 1709, 1690, 2039, 1872], \"x\": [1, 2, 3, 4, 5, 6, 7, 8, 9, 10, 11, 12, 13, 14, 15, 16, 17, 18, 19, 20, 21, 22, 23], \"type\": \"bar\", \"name\": \"WARRANTS\"}, {\"y\": [1392, 1116, 669, 505, 498, 741, 1268, 2002, 1868, 1793, 1508, 2313, 1646, 1973, 2231, 2732, 3569, 4418, 3807, 4018, 3965, 4145, 3569], \"x\": [1, 2, 3, 4, 5, 6, 7, 8, 9, 10, 11, 12, 13, 14, 15, 16, 17, 18, 19, 20, 21, 22, 23], \"type\": \"bar\", \"name\": \"VEHICLE THEFT\"}, {\"y\": [1043, 808, 546, 379, 205, 600, 1313, 1733, 2114, 2422, 2733, 2696, 3593, 4046, 3758, 3971, 4011, 3619, 3156, 2377, 2278, 2585, 2282], \"x\": [1, 2, 3, 4, 5, 6, 7, 8, 9, 10, 11, 12, 13, 14, 15, 16, 17, 18, 19, 20, 21, 22, 23], \"type\": \"bar\", \"name\": \"DRUG/NARCOTIC\"}, {\"y\": [3789, 3454, 1738, 1052, 825, 1034, 1580, 2573, 2847, 3164, 3368, 4207, 3648, 3682, 4154, 4010, 4147, 4025, 3940, 3841, 3978, 3885, 3644], \"x\": [1, 2, 3, 4, 5, 6, 7, 8, 9, 10, 11, 12, 13, 14, 15, 16, 17, 18, 19, 20, 21, 22, 23], \"type\": \"bar\", \"name\": \"ASSAULT\"}, {\"y\": [4304, 2957, 1786, 1098, 1130, 1806, 2930, 4952, 5650, 6924, 7688, 10160, 8999, 9229, 10164, 10564, 11753, 13875, 12912, 10984, 9600, 9507, 8909], \"x\": [1, 2, 3, 4, 5, 6, 7, 8, 9, 10, 11, 12, 13, 14, 15, 16, 17, 18, 19, 20, 21, 22, 23], \"type\": \"bar\", \"name\": \"LARCENY/THEFT\"}, {\"y\": [1832, 1819, 1107, 711, 579, 661, 932, 1395, 1295, 1356, 1267, 1770, 1338, 1506, 1777, 2008, 2726, 3204, 2829, 2908, 3056, 3144, 2824], \"x\": [1, 2, 3, 4, 5, 6, 7, 8, 9, 10, 11, 12, 13, 14, 15, 16, 17, 18, 19, 20, 21, 22, 23], \"type\": \"bar\", \"name\": \"VANDALISM\"}, {\"y\": [832, 879, 865, 772, 707, 805, 1272, 2124, 1794, 1646, 1610, 2102, 1404, 1514, 1763, 1999, 2609, 2574, 1931, 1631, 1579, 1541, 1437], \"x\": [1, 2, 3, 4, 5, 6, 7, 8, 9, 10, 11, 12, 13, 14, 15, 16, 17, 18, 19, 20, 21, 22, 23], \"type\": \"bar\", \"name\": \"BURGLARY\"}, {\"y\": [2292, 1789, 1240, 941, 861, 1541, 2758, 3886, 4545, 5003, 4931, 6761, 5329, 5284, 5595, 5602, 5088, 4876, 4256, 3906, 3940, 3951, 3624], \"x\": [1, 2, 3, 4, 5, 6, 7, 8, 9, 10, 11, 12, 13, 14, 15, 16, 17, 18, 19, 20, 21, 22, 23], \"type\": \"bar\", \"name\": \"NON-CRIMINAL\"}, {\"y\": [3630, 3057, 2003, 1516, 1166, 1692, 3459, 5264, 6010, 5857, 5800, 7702, 6378, 6375, 6720, 7559, 7719, 6959, 6132, 5335, 5470, 6574, 6430], \"x\": [1, 2, 3, 4, 5, 6, 7, 8, 9, 10, 11, 12, 13, 14, 15, 16, 17, 18, 19, 20, 21, 22, 23], \"type\": \"bar\", \"name\": \"OTHER OFFENSES\"}, {\"y\": [844, 793, 553, 366, 287, 468, 793, 1409, 1574, 1556, 1560, 2364, 1653, 1723, 1859, 1811, 1708, 1615, 1471, 1261, 1338, 1265, 1110], \"x\": [1, 2, 3, 4, 5, 6, 7, 8, 9, 10, 11, 12, 13, 14, 15, 16, 17, 18, 19, 20, 21, 22, 23], \"type\": \"bar\", \"name\": \"SUSPICIOUS OCC\"}], {\"barmode\": \"stack\", \"yaxis\": {\"title\": \"Number of crimes\"}, \"xaxis\": {\"title\": \"Hour in Day\"}, \"title\": \"The 10 Most Common crimes by Hour in a Day\"}, {\"linkText\": \"Export to plot.ly\", \"showLink\": true})</script>"
      ],
      "text/plain": [
       "<IPython.core.display.HTML object>"
      ]
     },
     "metadata": {},
     "output_type": "display_data"
    }
   ],
   "source": [
    "iplot({\n",
    "    'data': hour_traces, \n",
    "    'layout': {\n",
    "        'barmode': 'stack',\n",
    "        'xaxis': {'title': 'Hour in Day'},\n",
    "        'yaxis': {'title': 'Number of crimes'},\n",
    "        'title': 'The 10 Most Common crimes by Hour in a Day'\n",
    "    }})"
   ]
  },
  {
   "cell_type": "code",
   "execution_count": 51,
   "metadata": {
    "collapsed": false
   },
   "outputs": [
    {
     "data": {
      "text/html": [
       "<div id=\"9edd01e8-1376-4ae2-9503-d2ef04c90270\" style=\"height: 525; width: 100%;\" class=\"plotly-graph-div\"></div><script type=\"text/javascript\">window.PLOTLYENV=window.PLOTLYENV || {};window.PLOTLYENV.BASE_URL=\"https://plot.ly\";Plotly.newPlot(\"9edd01e8-1376-4ae2-9503-d2ef04c90270\", [{\"y\": [0.05693899730662005, 0.05535724403648932, 0.0619587536827069, 0.07170861262172758, 0.05993690851735016, 0.07105237006856802, 0.07578505838340324, 0.059081287830962906, 0.06226300108342362, 0.06531857349518838, 0.06388274336283185, 0.053741352034190455, 0.06677649643053267, 0.06482094174320426, 0.06095482723702734, 0.06239664609293118, 0.06020908341647508, 0.05234997901804448, 0.05091190761213999, 0.0450092178035291, 0.04580690627202255, 0.05277461434931152, 0.052435506008235065], \"x\": [1, 2, 3, 4, 5, 6, 7, 8, 9, 10, 11, 12, 13, 14, 15, 16, 17, 18, 19, 20, 21, 22, 23], \"type\": \"bar\", \"name\": \"WARRANTS\"}, {\"y\": [0.06577517365212872, 0.06323304436511984, 0.059726810106240515, 0.06386745921335525, 0.07480847228481298, 0.07363609261651595, 0.07187393719532932, 0.07434364439823239, 0.06324485373781148, 0.056387194163154915, 0.04633726647000983, 0.0546150031876461, 0.04519494783086216, 0.05222201635742834, 0.055101385561510535, 0.06363107022242925, 0.07740858022816986, 0.0926982794796475, 0.08935990423209633, 0.10582038451409007, 0.10747004933051445, 0.10728336266694274, 0.09996918853813619], \"x\": [1, 2, 3, 4, 5, 6, 7, 8, 9, 10, 11, 12, 13, 14, 15, 16, 17, 18, 19, 20, 21, 22, 23], \"type\": \"bar\", \"name\": \"VEHICLE THEFT\"}, {\"y\": [0.04928412795917403, 0.04578163068729107, 0.04874564771002589, 0.04793221196408246, 0.030794652245756348, 0.05962436649110603, 0.07442466840494275, 0.06435441345761075, 0.07157367280606718, 0.07616831247248254, 0.08397861356932153, 0.06365847323557886, 0.09865458539264141, 0.10709086577909531, 0.09281533255946059, 0.09248864562711075, 0.08699518500845876, 0.07593369702056231, 0.07407929019083163, 0.06260205425335791, 0.061744457093294305, 0.06690651206128999, 0.06391977815747459], \"x\": [1, 2, 3, 4, 5, 6, 7, 8, 9, 10, 11, 12, 13, 14, 15, 16, 17, 18, 19, 20, 21, 22, 23], \"type\": \"bar\", \"name\": \"DRUG/NARCOTIC\"}, {\"y\": [0.17903888862637624, 0.19570513910136553, 0.1551647174359432, 0.13304666750980143, 0.12392969806219017, 0.10275265825300606, 0.08955900691531572, 0.0955475509673586, 0.09639084507042253, 0.0995031134033587, 0.10349065880039332, 0.09933649736724044, 0.10016474464579901, 0.09745639342526667, 0.10259576675146335, 0.09339699545825085, 0.08994490955623997, 0.08445237096097356, 0.0924817501114945, 0.10115880958651567, 0.10782241014799154, 0.10055388756600062, 0.10206997002885074], \"x\": [1, 2, 3, 4, 5, 6, 7, 8, 9, 10, 11, 12, 13, 14, 15, 16, 17, 18, 19, 20, 21, 22, 23], \"type\": \"bar\", \"name\": \"ASSAULT\"}, {\"y\": [0.20337381278646693, 0.16754490339396, 0.15945004910275867, 0.13886429745794865, 0.1697461318912423, 0.17946934313822915, 0.1660809432037184, 0.18389097255746592, 0.1912919826652221, 0.21774954399647778, 0.2362340216322517, 0.23989988430025266, 0.2470895112575508, 0.24427622349858394, 0.2510311442614043, 0.24604634913240947, 0.2549125927211209, 0.29112463281577844, 0.303077248081121, 0.28928101132473005, 0.2602049113677021, 0.24606584532560308, 0.24954483067701186], \"x\": [1, 2, 3, 4, 5, 6, 7, 8, 9, 10, 11, 12, 13, 14, 15, 16, 17, 18, 19, 20, 21, 22, 23], \"type\": \"bar\", \"name\": \"LARCENY/THEFT\"}, {\"y\": [0.08656617681803147, 0.10306532948042382, 0.09883046156593162, 0.08992032376375364, 0.08697611536728256, 0.06568617708436848, 0.05282847749688244, 0.0518028890786884, 0.04384479956663055, 0.0426441914585823, 0.0389319075712881, 0.0417935822058511, 0.036738056013179574, 0.039861305947433895, 0.04388846353330534, 0.046768370793059275, 0.05912462586214375, 0.06722618548048678, 0.06640377438208576, 0.07658677903608112, 0.08283189678538516, 0.08137488352831557, 0.0791014257303717], \"x\": [1, 2, 3, 4, 5, 6, 7, 8, 9, 10, 11, 12, 13, 14, 15, 16, 17, 18, 19, 20, 21, 22, 23], \"type\": \"bar\", \"name\": \"VANDALISM\"}, {\"y\": [0.03931389689552521, 0.04980452150263471, 0.07722524774573698, 0.0976350069558619, 0.10620399579390116, 0.07999602504223392, 0.07210066885840608, 0.07887407627464815, 0.06073943661971831, 0.05176426190326436, 0.04947148475909538, 0.04963283039361526, 0.0385502471169687, 0.04007305259257299, 0.04354269060732545, 0.04655875160125771, 0.05658699518500846, 0.054007553503986575, 0.04532544656479591, 0.04295496444561496, 0.042798286984333495, 0.039885081271353144, 0.0402509733620907], \"x\": [1, 2, 3, 4, 5, 6, 7, 8, 9, 10, 11, 12, 13, 14, 15, 16, 17, 18, 19, 20, 21, 22, 23], \"type\": \"bar\", \"name\": \"BURGLARY\"}, {\"y\": [0.10830222558238435, 0.10136551645985609, 0.1107044013927328, 0.11900847350448969, 0.12933753943217666, 0.15313524793799066, 0.1563314816914182, 0.14430539567009543, 0.1538800108342362, 0.15733693943015284, 0.15151794493608653, 0.15964203914901656, 0.14632070291048874, 0.13985865911436965, 0.1381856800612512, 0.13047630138581576, 0.11035440072875548, 0.10230801510700797, 0.09989906814074126, 0.10287068738477746, 0.10679243237382773, 0.10226213893777823, 0.10150976163132686], \"x\": [1, 2, 3, 4, 5, 6, 7, 8, 9, 10, 11, 12, 13, 14, 15, 16, 17, 18, 19, 20, 21, 22, 23], \"type\": \"bar\", \"name\": \"NON-CRIMINAL\"}, {\"y\": [0.17152577611869774, 0.17321094679585244, 0.17882331934648693, 0.19172884785632985, 0.17515397326122878, 0.16814071350491902, 0.1960662056456184, 0.19547699506108657, 0.20348049837486457, 0.18419397446380276, 0.17822025565388397, 0.18186111307879388, 0.17512355848434927, 0.16873560784521321, 0.16597100447034996, 0.17605683009199954, 0.1674185572376697, 0.14601342845153167, 0.1439335258080417, 0.140505662365025, 0.14826259012305523, 0.17015218966766746, 0.18010699980392705], \"x\": [1, 2, 3, 4, 5, 6, 7, 8, 9, 10, 11, 12, 13, 14, 15, 16, 17, 18, 19, 20, 21, 22, 23], \"type\": \"bar\", \"name\": \"OTHER OFFENSES\"}, {\"y\": [0.03988092425459529, 0.04493172417700719, 0.04937059191143648, 0.04628809915264955, 0.04311251314405889, 0.0465070058630627, 0.04494955220496542, 0.05232277470385087, 0.05329089924160347, 0.048933895213535444, 0.04793510324483776, 0.05581922504781469, 0.04538714991762768, 0.04560493369683174, 0.04591370495690188, 0.04218003959473623, 0.03704507005595801, 0.0338858581619807, 0.03452808487665188, 0.03321042928627864, 0.03626605952187348, 0.03274148462573766, 0.03109156606257528], \"x\": [1, 2, 3, 4, 5, 6, 7, 8, 9, 10, 11, 12, 13, 14, 15, 16, 17, 18, 19, 20, 21, 22, 23], \"type\": \"bar\", \"name\": \"SUSPICIOUS OCC\"}], {\"barmode\": \"stack\", \"yaxis\": {\"title\": \"Percentage of crimes\"}, \"xaxis\": {\"title\": \"Hour in Day\"}, \"title\": \"The 10 Most Common crimes in percentage by Hour in a Day\"}, {\"linkText\": \"Export to plot.ly\", \"showLink\": true})</script>"
      ],
      "text/plain": [
       "<IPython.core.display.HTML object>"
      ]
     },
     "metadata": {},
     "output_type": "display_data"
    }
   ],
   "source": [
    "hour_traces2 = plotly_crime(train_subset,'hour',range(1,24),normalized=True)\n",
    "iplot({\n",
    "    'data': hour_traces2, \n",
    "    'layout': {\n",
    "        'barmode': 'stack',\n",
    "        'xaxis': {'title': 'Hour in Day'},\n",
    "        'yaxis': {'title': 'Percentage of crimes'},\n",
    "        'title': 'The 10 Most Common crimes in percentage by Hour in a Day'\n",
    "    }})"
   ]
  },
  {
   "cell_type": "code",
   "execution_count": null,
   "metadata": {
    "collapsed": true
   },
   "outputs": [],
   "source": []
  },
  {
   "cell_type": "markdown",
   "metadata": {},
   "source": [
    "# Stacked barplot of crime by dayofweek"
   ]
  },
  {
   "cell_type": "code",
   "execution_count": 52,
   "metadata": {
    "collapsed": false
   },
   "outputs": [
    {
     "data": {
      "text/html": [
       "<div id=\"931a9b02-2bd7-4f0b-b951-3cf8a6d6b320\" style=\"height: 525; width: 100%;\" class=\"plotly-graph-div\"></div><script type=\"text/javascript\">window.PLOTLYENV=window.PLOTLYENV || {};window.PLOTLYENV.BASE_URL=\"https://plot.ly\";Plotly.newPlot(\"931a9b02-2bd7-4f0b-b951-3cf8a6d6b320\", [{\"y\": [5811, 6427, 7029, 6376, 5926, 5364, 5281], \"x\": [0, 1, 2, 3, 4, 5, 6], \"type\": \"bar\", \"name\": \"WARRANTS\"}, {\"y\": [7412, 7263, 7414, 7456, 8613, 8119, 7504], \"x\": [0, 1, 2, 3, 4, 5, 6], \"type\": \"bar\", \"name\": \"VEHICLE THEFT\"}, {\"y\": [7823, 8474, 9267, 8454, 7420, 6390, 6143], \"x\": [0, 1, 2, 3, 4, 5, 6], \"type\": \"bar\", \"name\": \"DRUG/NARCOTIC\"}, {\"y\": [10560, 10280, 10553, 10246, 11160, 11995, 12082], \"x\": [0, 1, 2, 3, 4, 5, 6], \"type\": \"bar\", \"name\": \"ASSAULT\"}, {\"y\": [23570, 23957, 24487, 24415, 27104, 27217, 24150], \"x\": [0, 1, 2, 3, 4, 5, 6], \"type\": \"bar\", \"name\": \"LARCENY/THEFT\"}, {\"y\": [5946, 5852, 5927, 5980, 7092, 7326, 6602], \"x\": [0, 1, 2, 3, 4, 5, 6], \"type\": \"bar\", \"name\": \"VANDALISM\"}, {\"y\": [5262, 5374, 5457, 5350, 6327, 4754, 4231], \"x\": [0, 1, 2, 3, 4, 5, 6], \"type\": \"bar\", \"name\": \"BURGLARY\"}, {\"y\": [12855, 12738, 12928, 12819, 13984, 14007, 12973], \"x\": [0, 1, 2, 3, 4, 5, 6], \"type\": \"bar\", \"name\": \"NON-CRIMINAL\"}, {\"y\": [17787, 18809, 19950, 18462, 18588, 17129, 15457], \"x\": [0, 1, 2, 3, 4, 5, 6], \"type\": \"bar\", \"name\": \"OTHER OFFENSES\"}, {\"y\": [4447, 4517, 4851, 4510, 4924, 4155, 4010], \"x\": [0, 1, 2, 3, 4, 5, 6], \"type\": \"bar\", \"name\": \"SUSPICIOUS OCC\"}], {\"barmode\": \"stack\", \"yaxis\": {\"title\": \"Number of crimes\"}, \"xaxis\": {\"title\": \"Day of Week\"}, \"title\": \"The 10 Most Common crimes by day of week\"}, {\"linkText\": \"Export to plot.ly\", \"showLink\": true})</script>"
      ],
      "text/plain": [
       "<IPython.core.display.HTML object>"
      ]
     },
     "metadata": {},
     "output_type": "display_data"
    }
   ],
   "source": [
    "week_traces = plotly_crime(train_subset,'dayofweek',range(7))\n",
    "iplot({\n",
    "    'data': week_traces, \n",
    "    'layout': {\n",
    "        'barmode': 'stack',\n",
    "        'xaxis': {'title': 'Day of Week'},\n",
    "        'yaxis': {'title': 'Number of crimes'},\n",
    "        'title': 'The 10 Most Common crimes by day of week'\n",
    "    }})"
   ]
  },
  {
   "cell_type": "code",
   "execution_count": 53,
   "metadata": {
    "collapsed": false
   },
   "outputs": [
    {
     "data": {
      "text/html": [
       "<div id=\"81dda978-0927-44ce-a460-4c599b4bb71a\" style=\"height: 525; width: 100%;\" class=\"plotly-graph-div\"></div><script type=\"text/javascript\">window.PLOTLYENV=window.PLOTLYENV || {};window.PLOTLYENV.BASE_URL=\"https://plot.ly\";Plotly.newPlot(\"81dda978-0927-44ce-a460-4c599b4bb71a\", [{\"y\": [0.0572664649709775, 0.061982235681013784, 0.06516599760807691, 0.061267632701695045, 0.05332109629469668, 0.05038701435334786, 0.053650706571982974], \"x\": [0, 1, 2, 3, 4, 5, 6], \"type\": \"bar\", \"name\": \"WARRANTS\"}, {\"y\": [0.07304406098173899, 0.07004465189842898, 0.0687353402000686, 0.07164546258215782, 0.07749824542460725, 0.0762662508454197, 0.07623459612121951], \"x\": [0, 1, 2, 3, 4, 5, 6], \"type\": \"bar\", \"name\": \"VEHICLE THEFT\"}, {\"y\": [0.07709439949543229, 0.08172358256743593, 0.08591453974022603, 0.08123534611984472, 0.06676384314995772, 0.06002479897798151, 0.062407932299127326], \"x\": [0, 1, 2, 3, 4, 5, 6], \"type\": \"bar\", \"name\": \"DRUG/NARCOTIC\"}, {\"y\": [0.10406709173868911, 0.0991407161663018, 0.09783707109945022, 0.09845485644001999, 0.10041569940074502, 0.11267565942736905, 0.12274338890412768], \"x\": [0, 1, 2, 3, 4, 5, 6], \"type\": \"bar\", \"name\": \"ASSAULT\"}, {\"y\": [0.2322785371478127, 0.23104223124475606, 0.22701945987039115, 0.23460621901064688, 0.24387698177041156, 0.2556643120162321, 0.2453445490841486], \"x\": [0, 1, 2, 3, 4, 5, 6], \"type\": \"bar\", \"name\": \"LARCENY/THEFT\"}, {\"y\": [0.05859686813240961, 0.05643691352190643, 0.05494933387723316, 0.057462428412192026, 0.06381255736111861, 0.06881716389869993, 0.067071002610913], \"x\": [0, 1, 2, 3, 4, 5, 6], \"type\": \"bar\", \"name\": \"VANDALISM\"}, {\"y\": [0.051856158781153606, 0.05182706310094415, 0.050591954609087456, 0.05140869431525541, 0.056929223128003026, 0.04465694747125573, 0.04298355226397651], \"x\": [0, 1, 2, 3, 4, 5, 6], \"type\": \"bar\", \"name\": \"BURGLARY\"}, {\"y\": [0.12668394548303488, 0.12284576289166851, 0.11985574293316521, 0.12317907522004844, 0.12582555021684752, 0.13157548658600737, 0.1317952312740646], \"x\": [0, 1, 2, 3, 4, 5, 6], \"type\": \"bar\", \"name\": \"NON-CRIMINAL\"}, {\"y\": [0.17528800764735447, 0.18139472085330452, 0.18495684340320592, 0.17740323634546643, 0.16725152513091832, 0.1609021567596002, 0.15703067060843418], \"x\": [0, 1, 2, 3, 4, 5, 6], \"type\": \"bar\", \"name\": \"OTHER OFFENSES\"}, {\"y\": [0.04382446562139682, 0.04356212207423981, 0.04497371665909533, 0.043337048852673254, 0.04430527812269431, 0.039030209664086574, 0.04073837026200563], \"x\": [0, 1, 2, 3, 4, 5, 6], \"type\": \"bar\", \"name\": \"SUSPICIOUS OCC\"}], {\"barmode\": \"stack\", \"yaxis\": {\"title\": \"Percentage of crimes\"}, \"xaxis\": {\"title\": \"Day of Week\"}, \"title\": \"The 10 Most Common crimes in percentage by day of week\"}, {\"linkText\": \"Export to plot.ly\", \"showLink\": true})</script>"
      ],
      "text/plain": [
       "<IPython.core.display.HTML object>"
      ]
     },
     "metadata": {},
     "output_type": "display_data"
    }
   ],
   "source": [
    "week_traces2 = plotly_crime(train_subset,'dayofweek',range(7),normalized=True)\n",
    "iplot({\n",
    "    'data': week_traces2, \n",
    "    'layout': {\n",
    "        'barmode': 'stack',\n",
    "        'xaxis': {'title': 'Day of Week'},\n",
    "        'yaxis': {'title': 'Percentage of crimes'},\n",
    "        'title': 'The 10 Most Common crimes in percentage by day of week'\n",
    "    }})"
   ]
  },
  {
   "cell_type": "code",
   "execution_count": null,
   "metadata": {
    "collapsed": true
   },
   "outputs": [],
   "source": []
  },
  {
   "cell_type": "markdown",
   "metadata": {},
   "source": [
    "# Stacked barplot of crime by month"
   ]
  },
  {
   "cell_type": "code",
   "execution_count": 55,
   "metadata": {
    "collapsed": false
   },
   "outputs": [
    {
     "data": {
      "text/html": [
       "<div id=\"0c2f5fec-dfd5-4218-bdff-69233ea7a743\" style=\"height: 525; width: 100%;\" class=\"plotly-graph-div\"></div><script type=\"text/javascript\">window.PLOTLYENV=window.PLOTLYENV || {};window.PLOTLYENV.BASE_URL=\"https://plot.ly\";Plotly.newPlot(\"0c2f5fec-dfd5-4218-bdff-69233ea7a743\", [{\"y\": [3828, 3728, 3833, 3822, 3764, 3353, 3287, 3366, 3407, 3776, 3248, 2802], \"x\": [1, 2, 3, 4, 5, 6, 7, 8, 9, 10, 11, 12], \"type\": \"bar\", \"name\": \"WARRANTS\"}, {\"y\": [4255, 4030, 4457, 4828, 4720, 4299, 4399, 4430, 4572, 5016, 4648, 4127], \"x\": [1, 2, 3, 4, 5, 6, 7, 8, 9, 10, 11, 12], \"type\": \"bar\", \"name\": \"VEHICLE THEFT\"}, {\"y\": [4906, 4862, 4937, 4761, 4903, 4037, 4044, 4296, 4536, 4897, 4264, 3528], \"x\": [1, 2, 3, 4, 5, 6, 7, 8, 9, 10, 11, 12], \"type\": \"bar\", \"name\": \"DRUG/NARCOTIC\"}, {\"y\": [6226, 6104, 6680, 6793, 7175, 6434, 6050, 5747, 6474, 7195, 6435, 5563], \"x\": [1, 2, 3, 4, 5, 6, 7, 8, 9, 10, 11, 12], \"type\": \"bar\", \"name\": \"ASSAULT\"}, {\"y\": [14172, 13813, 14748, 15257, 15201, 14178, 14450, 14248, 14500, 15852, 14840, 13641], \"x\": [1, 2, 3, 4, 5, 6, 7, 8, 9, 10, 11, 12], \"type\": \"bar\", \"name\": \"LARCENY/THEFT\"}, {\"y\": [3590, 3409, 3889, 4090, 4013, 3680, 3679, 3469, 3601, 4115, 3689, 3501], \"x\": [1, 2, 3, 4, 5, 6, 7, 8, 9, 10, 11, 12], \"type\": \"bar\", \"name\": \"VANDALISM\"}, {\"y\": [3041, 2832, 3201, 3336, 3281, 2881, 3040, 2792, 2769, 3225, 3275, 3082], \"x\": [1, 2, 3, 4, 5, 6, 7, 8, 9, 10, 11, 12], \"type\": \"bar\", \"name\": \"BURGLARY\"}, {\"y\": [7470, 7117, 8104, 8297, 8685, 7551, 7506, 7176, 7614, 8369, 7521, 6894], \"x\": [1, 2, 3, 4, 5, 6, 7, 8, 9, 10, 11, 12], \"type\": \"bar\", \"name\": \"NON-CRIMINAL\"}, {\"y\": [11393, 10853, 11486, 11351, 11460, 9846, 9699, 9703, 10177, 11365, 10234, 8615], \"x\": [1, 2, 3, 4, 5, 6, 7, 8, 9, 10, 11, 12], \"type\": \"bar\", \"name\": \"OTHER OFFENSES\"}, {\"y\": [2580, 2485, 2651, 2766, 2932, 2609, 2445, 2402, 2639, 2891, 2649, 2365], \"x\": [1, 2, 3, 4, 5, 6, 7, 8, 9, 10, 11, 12], \"type\": \"bar\", \"name\": \"SUSPICIOUS OCC\"}], {\"barmode\": \"stack\", \"yaxis\": {\"title\": \"Number of crimes\"}, \"xaxis\": {\"title\": \"Month\"}, \"title\": \"The 10 Most Common crimes by month\"}, {\"linkText\": \"Export to plot.ly\", \"showLink\": true})</script>"
      ],
      "text/plain": [
       "<IPython.core.display.HTML object>"
      ]
     },
     "metadata": {},
     "output_type": "display_data"
    }
   ],
   "source": [
    "month_traces = plotly_crime(train_subset,'month',range(1,13))\n",
    "\n",
    "iplot({\n",
    "    'data': month_traces, \n",
    "    'layout': {\n",
    "        'barmode': 'stack',\n",
    "        'xaxis': {'title': 'Month'},\n",
    "        'yaxis': {'title': 'Number of crimes'},\n",
    "        'title': 'The 10 Most Common crimes by month'\n",
    "    }})"
   ]
  },
  {
   "cell_type": "code",
   "execution_count": 57,
   "metadata": {
    "collapsed": false
   },
   "outputs": [
    {
     "data": {
      "text/html": [
       "<div id=\"f242461f-7cb9-446f-a232-4bfdfc0d817b\" style=\"height: 525; width: 100%;\" class=\"plotly-graph-div\"></div><script type=\"text/javascript\">window.PLOTLYENV=window.PLOTLYENV || {};window.PLOTLYENV.BASE_URL=\"https://plot.ly\";Plotly.newPlot(\"f242461f-7cb9-446f-a232-4bfdfc0d817b\", [{\"y\": [0.06228339922877923, 0.06293788935221921, 0.05990372894070578, 0.0585289658657601, 0.05691474884325763, 0.05695793979751308, 0.056093107390911105, 0.05840809314754724, 0.056511138018544016, 0.05661084541461148, 0.05341841685443152, 0.0517757492885916], \"x\": [1, 2, 3, 4, 5, 6, 7, 8, 9, 10, 11, 12], \"type\": \"bar\", \"name\": \"WARRANTS\"}, {\"y\": [0.06923089438831129, 0.06803639862914254, 0.0696558622198606, 0.07393454924120611, 0.07137024828378746, 0.07302779099001155, 0.07506954043584362, 0.0768710197990595, 0.07583472938678698, 0.0752012713452572, 0.0764435965330658, 0.07625928526553087], \"x\": [1, 2, 3, 4, 5, 6, 7, 8, 9, 10, 11, 12], \"type\": \"bar\", \"name\": \"VEHICLE THEFT\"}, {\"y\": [0.07982297717251591, 0.08208262286225584, 0.07715750320382583, 0.07290853126292093, 0.07413735748631566, 0.06857715567031325, 0.0690114165770747, 0.07454580159294799, 0.07523760553334771, 0.07341719014707426, 0.07012811867835468, 0.06519087918991832], \"x\": [1, 2, 3, 4, 5, 6, 7, 8, 9, 10, 11, 12], \"type\": \"bar\", \"name\": \"DRUG/NARCOTIC\"}, {\"y\": [0.10130001138933632, 0.10305066432562929, 0.10439783702684963, 0.10402597203718167, 0.10849184988054555, 0.10929537269824013, 0.10324408266352668, 0.09972409724270767, 0.10738277297682827, 0.10786944723467415, 0.10583359373715112, 0.10279389482242507], \"x\": [1, 2, 3, 4, 5, 6, 7, 8, 9, 10, 11, 12], \"type\": \"bar\", \"name\": \"ASSAULT\"}, {\"y\": [0.23058524918240836, 0.2331977107355697, 0.23048791923233208, 0.23364113872681888, 0.22985151359361297, 0.2408439219949718, 0.24659123875834058, 0.24723663433340853, 0.24050821874637165, 0.23765760633273864, 0.24406690459352334, 0.2520603126501349], \"x\": [1, 2, 3, 4, 5, 6, 7, 8, 9, 10, 11, 12], \"type\": \"bar\", \"name\": \"LARCENY/THEFT\"}, {\"y\": [0.05841102487756464, 0.05755237789745581, 0.060778920388835055, 0.06263303777890078, 0.0606798318565337, 0.06251274036828158, 0.06278264134200243, 0.060195387738812056, 0.0597289721176334, 0.06169322798758639, 0.060671348453201324, 0.06469196940019957], \"x\": [1, 2, 3, 4, 5, 6, 7, 8, 9, 10, 11, 12], \"type\": \"bar\", \"name\": \"VANDALISM\"}, {\"y\": [0.04947853110102341, 0.04781118633194334, 0.05002656831181821, 0.05108650709790049, 0.049611395046420904, 0.04894000135897262, 0.05187801839621837, 0.048447830085547205, 0.04592877639370366, 0.04835009969865519, 0.0538624738910909, 0.05694962858937876], \"x\": [1, 2, 3, 4, 5, 6, 7, 8, 9, 10, 11, 12], \"type\": \"bar\", \"name\": \"BURGLARY\"}, {\"y\": [0.12154048909064284, 0.12015261762868672, 0.12665270527927985, 0.1270577785945085, 0.1313242810052318, 0.12827002785893865, 0.12809092305329442, 0.12452064064967291, 0.12629169500240509, 0.12547038275288228, 0.123694554545006, 0.12738829964152407], \"x\": [1, 2, 3, 4, 5, 6, 7, 8, 9, 10, 11, 12], \"type\": \"bar\", \"name\": \"NON-CRIMINAL\"}, {\"y\": [0.18536958396381445, 0.18322556682930125, 0.17950801737880162, 0.17382582196291022, 0.17328454350258565, 0.16725555480057078, 0.16551476987661906, 0.16837009144701454, 0.1688035960125396, 0.17038725056595852, 0.16831406345081656, 0.1591891792010052], \"x\": [1, 2, 3, 4, 5, 6, 7, 8, 9, 10, 11, 12], \"type\": \"bar\", \"name\": \"OTHER OFFENSES\"}, {\"y\": [0.041977839605603556, 0.04195296540779633, 0.04143093801769137, 0.04235769743189231, 0.04433423050170865, 0.04431949446218659, 0.04172426150616905, 0.041680403963282375, 0.04377249581183964, 0.04334267852056191, 0.043566929263358714, 0.04370080195129162], \"x\": [1, 2, 3, 4, 5, 6, 7, 8, 9, 10, 11, 12], \"type\": \"bar\", \"name\": \"SUSPICIOUS OCC\"}], {\"barmode\": \"stack\", \"yaxis\": {\"title\": \"Percentage of crimes\"}, \"xaxis\": {\"title\": \"Month\"}, \"title\": \"The 10 Most Common crimes in percentage by day of week\"}, {\"linkText\": \"Export to plot.ly\", \"showLink\": true})</script>"
      ],
      "text/plain": [
       "<IPython.core.display.HTML object>"
      ]
     },
     "metadata": {},
     "output_type": "display_data"
    }
   ],
   "source": [
    "month_traces2 = plotly_crime(train_subset,'month',range(1,13),normalized=True)\n",
    "\n",
    "iplot({\n",
    "    'data': month_traces2, \n",
    "    'layout': {\n",
    "        'barmode': 'stack',\n",
    "        'xaxis': {'title': 'Month'},\n",
    "        'yaxis': {'title': 'Percentage of crimes'},\n",
    "        'title': 'The 10 Most Common crimes in percentage by day of week'\n",
    "    }})"
   ]
  },
  {
   "cell_type": "code",
   "execution_count": null,
   "metadata": {
    "collapsed": true
   },
   "outputs": [],
   "source": []
  },
  {
   "cell_type": "code",
   "execution_count": null,
   "metadata": {
    "collapsed": true
   },
   "outputs": [],
   "source": []
  },
  {
   "cell_type": "code",
   "execution_count": null,
   "metadata": {
    "collapsed": true
   },
   "outputs": [],
   "source": []
  },
  {
   "cell_type": "code",
   "execution_count": null,
   "metadata": {
    "collapsed": true
   },
   "outputs": [],
   "source": []
  }
 ],
 "metadata": {
  "kernelspec": {
   "display_name": "Python 2",
   "language": "python",
   "name": "python2"
  },
  "language_info": {
   "codemirror_mode": {
    "name": "ipython",
    "version": 2
   },
   "file_extension": ".py",
   "mimetype": "text/x-python",
   "name": "python",
   "nbconvert_exporter": "python",
   "pygments_lexer": "ipython2",
   "version": "2.7.11"
  }
 },
 "nbformat": 4,
 "nbformat_minor": 0
}
